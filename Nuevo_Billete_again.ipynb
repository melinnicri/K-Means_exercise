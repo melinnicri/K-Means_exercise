{
 "cells": [
  {
   "cell_type": "code",
   "execution_count": 1,
   "metadata": {},
   "outputs": [],
   "source": [
    "# Import libraries that will use\n",
    "import numpy as np\n",
    "import matplotlib.pyplot as plt\n",
    "import pandas as pd\n",
    "\n",
    "import seaborn as sb\n",
    "from sklearn.cluster import KMeans\n",
    "from sklearn.metrics import pairwise_distances_argmin_min\n",
    "from sklearn.datasets import make_blobs\n",
    "from sklearn.cluster import KMeans\n",
    "from sklearn.metrics import silhouette_score\n",
    "from sklearn.preprocessing import StandardScaler\n",
    "\n",
    "\n",
    "import statistics\n",
    "import scipy.stats as stats"
   ]
  },
  {
   "cell_type": "code",
   "execution_count": 2,
   "metadata": {},
   "outputs": [],
   "source": [
    "# Read dataframe from .csv\n",
    "df = pd.read_csv(\"Backnotes.csv\")"
   ]
  },
  {
   "cell_type": "code",
   "execution_count": 3,
   "metadata": {},
   "outputs": [
    {
     "data": {
      "text/html": [
       "<div>\n",
       "<style scoped>\n",
       "    .dataframe tbody tr th:only-of-type {\n",
       "        vertical-align: middle;\n",
       "    }\n",
       "\n",
       "    .dataframe tbody tr th {\n",
       "        vertical-align: top;\n",
       "    }\n",
       "\n",
       "    .dataframe thead th {\n",
       "        text-align: right;\n",
       "    }\n",
       "</style>\n",
       "<table border=\"1\" class=\"dataframe\">\n",
       "  <thead>\n",
       "    <tr style=\"text-align: right;\">\n",
       "      <th></th>\n",
       "      <th>V1</th>\n",
       "      <th>V2</th>\n",
       "    </tr>\n",
       "  </thead>\n",
       "  <tbody>\n",
       "    <tr>\n",
       "      <th>0</th>\n",
       "      <td>3.62160</td>\n",
       "      <td>8.66610</td>\n",
       "    </tr>\n",
       "    <tr>\n",
       "      <th>1</th>\n",
       "      <td>4.54590</td>\n",
       "      <td>8.16740</td>\n",
       "    </tr>\n",
       "    <tr>\n",
       "      <th>2</th>\n",
       "      <td>3.86600</td>\n",
       "      <td>-2.63830</td>\n",
       "    </tr>\n",
       "    <tr>\n",
       "      <th>3</th>\n",
       "      <td>3.45660</td>\n",
       "      <td>9.52280</td>\n",
       "    </tr>\n",
       "    <tr>\n",
       "      <th>4</th>\n",
       "      <td>0.32924</td>\n",
       "      <td>-4.45520</td>\n",
       "    </tr>\n",
       "    <tr>\n",
       "      <th>...</th>\n",
       "      <td>...</td>\n",
       "      <td>...</td>\n",
       "    </tr>\n",
       "    <tr>\n",
       "      <th>1367</th>\n",
       "      <td>0.40614</td>\n",
       "      <td>1.34920</td>\n",
       "    </tr>\n",
       "    <tr>\n",
       "      <th>1368</th>\n",
       "      <td>-1.38870</td>\n",
       "      <td>-4.87730</td>\n",
       "    </tr>\n",
       "    <tr>\n",
       "      <th>1369</th>\n",
       "      <td>-3.75030</td>\n",
       "      <td>-13.45860</td>\n",
       "    </tr>\n",
       "    <tr>\n",
       "      <th>1370</th>\n",
       "      <td>-3.56370</td>\n",
       "      <td>-8.38270</td>\n",
       "    </tr>\n",
       "    <tr>\n",
       "      <th>1371</th>\n",
       "      <td>-2.54190</td>\n",
       "      <td>-0.65804</td>\n",
       "    </tr>\n",
       "  </tbody>\n",
       "</table>\n",
       "<p>1372 rows × 2 columns</p>\n",
       "</div>"
      ],
      "text/plain": [
       "           V1        V2\n",
       "0     3.62160   8.66610\n",
       "1     4.54590   8.16740\n",
       "2     3.86600  -2.63830\n",
       "3     3.45660   9.52280\n",
       "4     0.32924  -4.45520\n",
       "...       ...       ...\n",
       "1367  0.40614   1.34920\n",
       "1368 -1.38870  -4.87730\n",
       "1369 -3.75030 -13.45860\n",
       "1370 -3.56370  -8.38270\n",
       "1371 -2.54190  -0.65804\n",
       "\n",
       "[1372 rows x 2 columns]"
      ]
     },
     "execution_count": 3,
     "metadata": {},
     "output_type": "execute_result"
    }
   ],
   "source": [
    "# See the data.\n",
    "# V1. variance of Wavelet Transformed image (continuous), variance of the transformed images.\n",
    "# V2. skewness of Wavelet Transformed image (continuous), asymmetry of the transformed images.\n",
    "df"
   ]
  },
  {
   "cell_type": "code",
   "execution_count": 4,
   "metadata": {},
   "outputs": [
    {
     "name": "stdout",
     "output_type": "stream",
     "text": [
      "<class 'pandas.core.frame.DataFrame'>\n",
      "RangeIndex: 1372 entries, 0 to 1371\n",
      "Data columns (total 2 columns):\n",
      " #   Column  Non-Null Count  Dtype  \n",
      "---  ------  --------------  -----  \n",
      " 0   V1      1372 non-null   float64\n",
      " 1   V2      1372 non-null   float64\n",
      "dtypes: float64(2)\n",
      "memory usage: 21.6 KB\n"
     ]
    }
   ],
   "source": [
    "# Info from Dataframe\n",
    "df.info()"
   ]
  },
  {
   "cell_type": "code",
   "execution_count": 5,
   "metadata": {},
   "outputs": [
    {
     "data": {
      "text/html": [
       "<div>\n",
       "<style scoped>\n",
       "    .dataframe tbody tr th:only-of-type {\n",
       "        vertical-align: middle;\n",
       "    }\n",
       "\n",
       "    .dataframe tbody tr th {\n",
       "        vertical-align: top;\n",
       "    }\n",
       "\n",
       "    .dataframe thead th {\n",
       "        text-align: right;\n",
       "    }\n",
       "</style>\n",
       "<table border=\"1\" class=\"dataframe\">\n",
       "  <thead>\n",
       "    <tr style=\"text-align: right;\">\n",
       "      <th></th>\n",
       "      <th>V1</th>\n",
       "      <th>V2</th>\n",
       "    </tr>\n",
       "  </thead>\n",
       "  <tbody>\n",
       "    <tr>\n",
       "      <th>count</th>\n",
       "      <td>1372.000000</td>\n",
       "      <td>1372.000000</td>\n",
       "    </tr>\n",
       "    <tr>\n",
       "      <th>mean</th>\n",
       "      <td>0.433735</td>\n",
       "      <td>1.922353</td>\n",
       "    </tr>\n",
       "    <tr>\n",
       "      <th>std</th>\n",
       "      <td>2.842763</td>\n",
       "      <td>5.869047</td>\n",
       "    </tr>\n",
       "    <tr>\n",
       "      <th>min</th>\n",
       "      <td>-7.042100</td>\n",
       "      <td>-13.773100</td>\n",
       "    </tr>\n",
       "    <tr>\n",
       "      <th>25%</th>\n",
       "      <td>-1.773000</td>\n",
       "      <td>-1.708200</td>\n",
       "    </tr>\n",
       "    <tr>\n",
       "      <th>50%</th>\n",
       "      <td>0.496180</td>\n",
       "      <td>2.319650</td>\n",
       "    </tr>\n",
       "    <tr>\n",
       "      <th>75%</th>\n",
       "      <td>2.821475</td>\n",
       "      <td>6.814625</td>\n",
       "    </tr>\n",
       "    <tr>\n",
       "      <th>max</th>\n",
       "      <td>6.824800</td>\n",
       "      <td>12.951600</td>\n",
       "    </tr>\n",
       "  </tbody>\n",
       "</table>\n",
       "</div>"
      ],
      "text/plain": [
       "                V1           V2\n",
       "count  1372.000000  1372.000000\n",
       "mean      0.433735     1.922353\n",
       "std       2.842763     5.869047\n",
       "min      -7.042100   -13.773100\n",
       "25%      -1.773000    -1.708200\n",
       "50%       0.496180     2.319650\n",
       "75%       2.821475     6.814625\n",
       "max       6.824800    12.951600"
      ]
     },
     "execution_count": 5,
     "metadata": {},
     "output_type": "execute_result"
    }
   ],
   "source": [
    "# A general statistical description: V1, variance of the transformed images and V2, skewness of the transformed images,\n",
    "# we have 1372 data each, with an average of V1,0.433 and V2, 1.922. Standard deviation of V1, 2.842 and V2, 5.869 (this means,\n",
    "# how far the data is from the mean, V2 is twice as far from V1). 75% of the data (are less than these values),\n",
    "# V2 (6,814) is double V1 (2,821). The minimum for V1 is -7.042 and for V2 is -13.773; the maximum for V1 is 6,824 and for\n",
    "# V2 is 12,951.\n",
    "df.describe()"
   ]
  },
  {
   "cell_type": "code",
   "execution_count": 6,
   "metadata": {},
   "outputs": [
    {
     "data": {
      "image/png": "[encoded data removed]",
      "text/plain": [
       "<Figure size 640x480 with 1 Axes>"
      ]
     },
     "metadata": {},
     "output_type": "display_data"
    }
   ],
   "source": [
    "# Graph\n",
    "df.plot.scatter(x='V1', y='V2')\n",
    "plt.show()"
   ]
  },
  {
   "cell_type": "code",
   "execution_count": 7,
   "metadata": {},
   "outputs": [
    {
     "data": {
      "text/html": [
       "<div>\n",
       "<style scoped>\n",
       "    .dataframe tbody tr th:only-of-type {\n",
       "        vertical-align: middle;\n",
       "    }\n",
       "\n",
       "    .dataframe tbody tr th {\n",
       "        vertical-align: top;\n",
       "    }\n",
       "\n",
       "    .dataframe thead th {\n",
       "        text-align: right;\n",
       "    }\n",
       "</style>\n",
       "<table border=\"1\" class=\"dataframe\">\n",
       "  <thead>\n",
       "    <tr style=\"text-align: right;\">\n",
       "      <th></th>\n",
       "      <th>0</th>\n",
       "      <th>1</th>\n",
       "    </tr>\n",
       "  </thead>\n",
       "  <tbody>\n",
       "    <tr>\n",
       "      <th>count</th>\n",
       "      <td>1.372000e+03</td>\n",
       "      <td>1.372000e+03</td>\n",
       "    </tr>\n",
       "    <tr>\n",
       "      <th>mean</th>\n",
       "      <td>-8.286213e-17</td>\n",
       "      <td>-4.143106e-17</td>\n",
       "    </tr>\n",
       "    <tr>\n",
       "      <th>std</th>\n",
       "      <td>1.000365e+00</td>\n",
       "      <td>1.000365e+00</td>\n",
       "    </tr>\n",
       "    <tr>\n",
       "      <th>min</th>\n",
       "      <td>-2.630737e+00</td>\n",
       "      <td>-2.675252e+00</td>\n",
       "    </tr>\n",
       "    <tr>\n",
       "      <th>25%</th>\n",
       "      <td>-7.765474e-01</td>\n",
       "      <td>-6.188189e-01</td>\n",
       "    </tr>\n",
       "    <tr>\n",
       "      <th>50%</th>\n",
       "      <td>2.197423e-02</td>\n",
       "      <td>6.771828e-02</td>\n",
       "    </tr>\n",
       "    <tr>\n",
       "      <th>75%</th>\n",
       "      <td>8.402427e-01</td>\n",
       "      <td>8.338757e-01</td>\n",
       "    </tr>\n",
       "    <tr>\n",
       "      <th>max</th>\n",
       "      <td>2.249008e+00</td>\n",
       "      <td>1.879908e+00</td>\n",
       "    </tr>\n",
       "  </tbody>\n",
       "</table>\n",
       "</div>"
      ],
      "text/plain": [
       "                  0             1\n",
       "count  1.372000e+03  1.372000e+03\n",
       "mean  -8.286213e-17 -4.143106e-17\n",
       "std    1.000365e+00  1.000365e+00\n",
       "min   -2.630737e+00 -2.675252e+00\n",
       "25%   -7.765474e-01 -6.188189e-01\n",
       "50%    2.197423e-02  6.771828e-02\n",
       "75%    8.402427e-01  8.338757e-01\n",
       "max    2.249008e+00  1.879908e+00"
      ]
     },
     "execution_count": 7,
     "metadata": {},
     "output_type": "execute_result"
    }
   ],
   "source": [
    "# Standardizing the data\n",
    "scaler = StandardScaler()\n",
    "data_scaled = scaler.fit_transform(df)\n",
    "\n",
    "# Statistics of scaled data\n",
    "pd.DataFrame(data_scaled).describe()"
   ]
  },
  {
   "cell_type": "code",
   "execution_count": 8,
   "metadata": {},
   "outputs": [
    {
     "data": {
      "text/plain": [
       "array([[ 1.12180565,  1.14945512],\n",
       "       [ 1.44706568,  1.06445293],\n",
       "       [ 1.20780971, -0.77735215],\n",
       "       ...,\n",
       "       [-1.47235682, -2.62164576],\n",
       "       [-1.40669251, -1.75647104],\n",
       "       [-1.04712236, -0.43982168]])"
      ]
     },
     "execution_count": 8,
     "metadata": {},
     "output_type": "execute_result"
    }
   ],
   "source": [
    "# Results\n",
    "data_scaled"
   ]
  },
  {
   "cell_type": "code",
   "execution_count": 9,
   "metadata": {},
   "outputs": [
    {
     "data": {
      "image/png": "[encoded data removed]",
      "text/plain": [
       "<Figure size 640x480 with 1 Axes>"
      ]
     },
     "metadata": {},
     "output_type": "display_data"
    }
   ],
   "source": [
    "# Convert numpy.ndarray to pandas.DataFrame\n",
    "df = pd.DataFrame(data_scaled, columns=['0', '1'])\n",
    "\n",
    "# Create scatter plot\n",
    "df.plot.scatter(x='0', y='1')\n",
    "plt.show()"
   ]
  },
  {
   "cell_type": "code",
   "execution_count": 10,
   "metadata": {},
   "outputs": [],
   "source": [
    "# Initialize kmeans parameters\n",
    "kmeans_kwargs = {\n",
    "\"init\": \"random\",\n",
    "\"n_init\": 10,\n",
    "\"random_state\": 1,\n",
    "}"
   ]
  },
  {
   "cell_type": "code",
   "execution_count": 11,
   "metadata": {},
   "outputs": [],
   "source": [
    "# Create list to hold SSE values for each k\n",
    "sse = []\n",
    "\n",
    "# Iterate over k values\n",
    "for k in range(1, 11):\n",
    "    # Create KMeans object with n_clusters=k and **kmeans_kwargs\n",
    "    kmeans = KMeans(n_clusters=k, **kmeans_kwargs)"
   ]
  },
  {
   "cell_type": "code",
   "execution_count": 12,
   "metadata": {},
   "outputs": [
    {
     "name": "stdout",
     "output_type": "stream",
     "text": [
      "Error: get_config() returned None. Please check your configuration.\n"
     ]
    }
   ],
   "source": [
    "# Fit the scaled data to the KMeans object\n",
    "try:\n",
    "    kmeans.fit(df)\n",
    "except AttributeError as e:\n",
    "    if str(e) == \"'NoneType' object has no attribute 'split'\":\n",
    "        print(\"Error: get_config() returned None. Please check your configuration.\")\n",
    "    else:\n",
    "        raise e\n"
   ]
  },
  {
   "cell_type": "code",
   "execution_count": 13,
   "metadata": {},
   "outputs": [],
   "source": [
    "# Convert numpy.ndarray to pandas.DataFrame\n",
    "df = pd.DataFrame(data_scaled, columns=['0', '1'])"
   ]
  },
  {
   "cell_type": "code",
   "execution_count": 14,
   "metadata": {},
   "outputs": [
    {
     "name": "stdout",
     "output_type": "stream",
     "text": [
      "          0      1\n",
      "0     False  False\n",
      "1     False  False\n",
      "2     False  False\n",
      "3     False  False\n",
      "4     False  False\n",
      "...     ...    ...\n",
      "1367  False  False\n",
      "1368  False  False\n",
      "1369  False  False\n",
      "1370  False  False\n",
      "1371  False  False\n",
      "\n",
      "[1372 rows x 2 columns]\n"
     ]
    }
   ],
   "source": [
    "# Count if there are nulls\n",
    "print(df.isnull())"
   ]
  },
  {
   "cell_type": "code",
   "execution_count": 15,
   "metadata": {},
   "outputs": [
    {
     "name": "stdout",
     "output_type": "stream",
     "text": [
      "          0      1\n",
      "0     False  False\n",
      "1     False  False\n",
      "2     False  False\n",
      "3     False  False\n",
      "4     False  False\n",
      "...     ...    ...\n",
      "1367  False  False\n",
      "1368  False  False\n",
      "1369  False  False\n",
      "1370  False  False\n",
      "1371  False  False\n",
      "\n",
      "[1372 rows x 2 columns]\n"
     ]
    }
   ],
   "source": [
    "# Check for None values\n",
    "print(df.applymap(lambda x: x is None))"
   ]
  },
  {
   "cell_type": "code",
   "execution_count": 16,
   "metadata": {},
   "outputs": [
    {
     "name": "stdout",
     "output_type": "stream",
     "text": [
      "0    0\n",
      "1    0\n",
      "dtype: int64\n"
     ]
    }
   ],
   "source": [
    "# Count null values\n",
    "print(df.isnull().sum())"
   ]
  },
  {
   "cell_type": "code",
   "execution_count": 17,
   "metadata": {},
   "outputs": [
    {
     "ename": "AttributeError",
     "evalue": "'NoneType' object has no attribute 'split'",
     "output_type": "error",
     "traceback": [
      "\u001b[1;31m---------------------------------------------------------------------------\u001b[0m",
      "\u001b[1;31mAttributeError\u001b[0m                            Traceback (most recent call last)",
      "\u001b[1;32mc:\\Users\\56988\\Desktop\\Coursera\\KMEANS\\Nuevo_Billete_again.ipynb Cell 17\u001b[0m line \u001b[0;36m2\n\u001b[0;32m      <a href='vscode-notebook-cell:/c%3A/Users/56988/Desktop/Coursera/KMEANS/Nuevo_Billete_again.ipynb#X23sZmlsZQ%3D%3D?line=0'>1</a>\u001b[0m \u001b[39m# Fit the scaled data to the KMeans object\u001b[39;00m\n\u001b[1;32m----> <a href='vscode-notebook-cell:/c%3A/Users/56988/Desktop/Coursera/KMEANS/Nuevo_Billete_again.ipynb#X23sZmlsZQ%3D%3D?line=1'>2</a>\u001b[0m kmeans\u001b[39m.\u001b[39;49mfit(df)\n",
      "File \u001b[1;32mc:\\Users\\56988\\anaconda3\\Lib\\site-packages\\sklearn\\base.py:1152\u001b[0m, in \u001b[0;36m_fit_context.<locals>.decorator.<locals>.wrapper\u001b[1;34m(estimator, *args, **kwargs)\u001b[0m\n\u001b[0;32m   1145\u001b[0m     estimator\u001b[39m.\u001b[39m_validate_params()\n\u001b[0;32m   1147\u001b[0m \u001b[39mwith\u001b[39;00m config_context(\n\u001b[0;32m   1148\u001b[0m     skip_parameter_validation\u001b[39m=\u001b[39m(\n\u001b[0;32m   1149\u001b[0m         prefer_skip_nested_validation \u001b[39mor\u001b[39;00m global_skip_validation\n\u001b[0;32m   1150\u001b[0m     )\n\u001b[0;32m   1151\u001b[0m ):\n\u001b[1;32m-> 1152\u001b[0m     \u001b[39mreturn\u001b[39;00m fit_method(estimator, \u001b[39m*\u001b[39;49margs, \u001b[39m*\u001b[39;49m\u001b[39m*\u001b[39;49mkwargs)\n",
      "File \u001b[1;32mc:\\Users\\56988\\anaconda3\\Lib\\site-packages\\sklearn\\cluster\\_kmeans.py:1530\u001b[0m, in \u001b[0;36mKMeans.fit\u001b[1;34m(self, X, y, sample_weight)\u001b[0m\n\u001b[0;32m   1527\u001b[0m     \u001b[39mprint\u001b[39m(\u001b[39m\"\u001b[39m\u001b[39mInitialization complete\u001b[39m\u001b[39m\"\u001b[39m)\n\u001b[0;32m   1529\u001b[0m \u001b[39m# run a k-means once\u001b[39;00m\n\u001b[1;32m-> 1530\u001b[0m labels, inertia, centers, n_iter_ \u001b[39m=\u001b[39m kmeans_single(\n\u001b[0;32m   1531\u001b[0m     X,\n\u001b[0;32m   1532\u001b[0m     sample_weight,\n\u001b[0;32m   1533\u001b[0m     centers_init,\n\u001b[0;32m   1534\u001b[0m     max_iter\u001b[39m=\u001b[39;49m\u001b[39mself\u001b[39;49m\u001b[39m.\u001b[39;49mmax_iter,\n\u001b[0;32m   1535\u001b[0m     verbose\u001b[39m=\u001b[39;49m\u001b[39mself\u001b[39;49m\u001b[39m.\u001b[39;49mverbose,\n\u001b[0;32m   1536\u001b[0m     tol\u001b[39m=\u001b[39;49m\u001b[39mself\u001b[39;49m\u001b[39m.\u001b[39;49m_tol,\n\u001b[0;32m   1537\u001b[0m     n_threads\u001b[39m=\u001b[39;49m\u001b[39mself\u001b[39;49m\u001b[39m.\u001b[39;49m_n_threads,\n\u001b[0;32m   1538\u001b[0m )\n\u001b[0;32m   1540\u001b[0m \u001b[39m# determine if these results are the best so far\u001b[39;00m\n\u001b[0;32m   1541\u001b[0m \u001b[39m# we chose a new run if it has a better inertia and the clustering is\u001b[39;00m\n\u001b[0;32m   1542\u001b[0m \u001b[39m# different from the best so far (it's possible that the inertia is\u001b[39;00m\n\u001b[0;32m   1543\u001b[0m \u001b[39m# slightly better even if the clustering is the same with potentially\u001b[39;00m\n\u001b[0;32m   1544\u001b[0m \u001b[39m# permuted labels, due to rounding errors)\u001b[39;00m\n\u001b[0;32m   1545\u001b[0m \u001b[39mif\u001b[39;00m best_inertia \u001b[39mis\u001b[39;00m \u001b[39mNone\u001b[39;00m \u001b[39mor\u001b[39;00m (\n\u001b[0;32m   1546\u001b[0m     inertia \u001b[39m<\u001b[39m best_inertia\n\u001b[0;32m   1547\u001b[0m     \u001b[39mand\u001b[39;00m \u001b[39mnot\u001b[39;00m _is_same_clustering(labels, best_labels, \u001b[39mself\u001b[39m\u001b[39m.\u001b[39mn_clusters)\n\u001b[0;32m   1548\u001b[0m ):\n",
      "File \u001b[1;32mc:\\Users\\56988\\anaconda3\\Lib\\site-packages\\sklearn\\cluster\\_kmeans.py:688\u001b[0m, in \u001b[0;36m_kmeans_single_lloyd\u001b[1;34m(X, sample_weight, centers_init, max_iter, verbose, tol, n_threads)\u001b[0m\n\u001b[0;32m    684\u001b[0m strict_convergence \u001b[39m=\u001b[39m \u001b[39mFalse\u001b[39;00m\n\u001b[0;32m    686\u001b[0m \u001b[39m# Threadpoolctl context to limit the number of threads in second level of\u001b[39;00m\n\u001b[0;32m    687\u001b[0m \u001b[39m# nested parallelism (i.e. BLAS) to avoid oversubscription.\u001b[39;00m\n\u001b[1;32m--> 688\u001b[0m \u001b[39mwith\u001b[39;00m threadpool_limits(limits\u001b[39m=\u001b[39;49m\u001b[39m1\u001b[39;49m, user_api\u001b[39m=\u001b[39;49m\u001b[39m\"\u001b[39;49m\u001b[39mblas\u001b[39;49m\u001b[39m\"\u001b[39;49m):\n\u001b[0;32m    689\u001b[0m     \u001b[39mfor\u001b[39;00m i \u001b[39min\u001b[39;00m \u001b[39mrange\u001b[39m(max_iter):\n\u001b[0;32m    690\u001b[0m         lloyd_iter(\n\u001b[0;32m    691\u001b[0m             X,\n\u001b[0;32m    692\u001b[0m             sample_weight,\n\u001b[1;32m   (...)\u001b[0m\n\u001b[0;32m    698\u001b[0m             n_threads,\n\u001b[0;32m    699\u001b[0m         )\n",
      "File \u001b[1;32mc:\\Users\\56988\\anaconda3\\Lib\\site-packages\\sklearn\\utils\\fixes.py:74\u001b[0m, in \u001b[0;36mthreadpool_limits\u001b[1;34m(limits, user_api)\u001b[0m\n\u001b[0;32m     72\u001b[0m     \u001b[39mreturn\u001b[39;00m controller\u001b[39m.\u001b[39mlimit(limits\u001b[39m=\u001b[39mlimits, user_api\u001b[39m=\u001b[39muser_api)\n\u001b[0;32m     73\u001b[0m \u001b[39melse\u001b[39;00m:\n\u001b[1;32m---> 74\u001b[0m     \u001b[39mreturn\u001b[39;00m threadpoolctl\u001b[39m.\u001b[39;49mthreadpool_limits(limits\u001b[39m=\u001b[39;49mlimits, user_api\u001b[39m=\u001b[39;49muser_api)\n",
      "File \u001b[1;32mc:\\Users\\56988\\anaconda3\\Lib\\site-packages\\threadpoolctl.py:171\u001b[0m, in \u001b[0;36mthreadpool_limits.__init__\u001b[1;34m(self, limits, user_api)\u001b[0m\n\u001b[0;32m    167\u001b[0m \u001b[39mdef\u001b[39;00m \u001b[39m__init__\u001b[39m(\u001b[39mself\u001b[39m, limits\u001b[39m=\u001b[39m\u001b[39mNone\u001b[39;00m, user_api\u001b[39m=\u001b[39m\u001b[39mNone\u001b[39;00m):\n\u001b[0;32m    168\u001b[0m     \u001b[39mself\u001b[39m\u001b[39m.\u001b[39m_limits, \u001b[39mself\u001b[39m\u001b[39m.\u001b[39m_user_api, \u001b[39mself\u001b[39m\u001b[39m.\u001b[39m_prefixes \u001b[39m=\u001b[39m \\\n\u001b[0;32m    169\u001b[0m         \u001b[39mself\u001b[39m\u001b[39m.\u001b[39m_check_params(limits, user_api)\n\u001b[1;32m--> 171\u001b[0m     \u001b[39mself\u001b[39m\u001b[39m.\u001b[39m_original_info \u001b[39m=\u001b[39m \u001b[39mself\u001b[39;49m\u001b[39m.\u001b[39;49m_set_threadpool_limits()\n",
      "File \u001b[1;32mc:\\Users\\56988\\anaconda3\\Lib\\site-packages\\threadpoolctl.py:268\u001b[0m, in \u001b[0;36mthreadpool_limits._set_threadpool_limits\u001b[1;34m(self)\u001b[0m\n\u001b[0;32m    265\u001b[0m \u001b[39mif\u001b[39;00m \u001b[39mself\u001b[39m\u001b[39m.\u001b[39m_limits \u001b[39mis\u001b[39;00m \u001b[39mNone\u001b[39;00m:\n\u001b[0;32m    266\u001b[0m     \u001b[39mreturn\u001b[39;00m \u001b[39mNone\u001b[39;00m\n\u001b[1;32m--> 268\u001b[0m modules \u001b[39m=\u001b[39m _ThreadpoolInfo(prefixes\u001b[39m=\u001b[39;49m\u001b[39mself\u001b[39;49m\u001b[39m.\u001b[39;49m_prefixes,\n\u001b[0;32m    269\u001b[0m                           user_api\u001b[39m=\u001b[39;49m\u001b[39mself\u001b[39;49m\u001b[39m.\u001b[39;49m_user_api)\n\u001b[0;32m    270\u001b[0m \u001b[39mfor\u001b[39;00m module \u001b[39min\u001b[39;00m modules:\n\u001b[0;32m    271\u001b[0m     \u001b[39m# self._limits is a dict {key: num_threads} where key is either\u001b[39;00m\n\u001b[0;32m    272\u001b[0m     \u001b[39m# a prefix or a user_api. If a module matches both, the limit\u001b[39;00m\n\u001b[0;32m    273\u001b[0m     \u001b[39m# corresponding to the prefix is chosed.\u001b[39;00m\n\u001b[0;32m    274\u001b[0m     \u001b[39mif\u001b[39;00m module\u001b[39m.\u001b[39mprefix \u001b[39min\u001b[39;00m \u001b[39mself\u001b[39m\u001b[39m.\u001b[39m_limits:\n",
      "File \u001b[1;32mc:\\Users\\56988\\anaconda3\\Lib\\site-packages\\threadpoolctl.py:340\u001b[0m, in \u001b[0;36m_ThreadpoolInfo.__init__\u001b[1;34m(self, user_api, prefixes, modules)\u001b[0m\n\u001b[0;32m    337\u001b[0m     \u001b[39mself\u001b[39m\u001b[39m.\u001b[39muser_api \u001b[39m=\u001b[39m [] \u001b[39mif\u001b[39;00m user_api \u001b[39mis\u001b[39;00m \u001b[39mNone\u001b[39;00m \u001b[39melse\u001b[39;00m user_api\n\u001b[0;32m    339\u001b[0m     \u001b[39mself\u001b[39m\u001b[39m.\u001b[39mmodules \u001b[39m=\u001b[39m []\n\u001b[1;32m--> 340\u001b[0m     \u001b[39mself\u001b[39;49m\u001b[39m.\u001b[39;49m_load_modules()\n\u001b[0;32m    341\u001b[0m     \u001b[39mself\u001b[39m\u001b[39m.\u001b[39m_warn_if_incompatible_openmp()\n\u001b[0;32m    342\u001b[0m \u001b[39melse\u001b[39;00m:\n",
      "File \u001b[1;32mc:\\Users\\56988\\anaconda3\\Lib\\site-packages\\threadpoolctl.py:373\u001b[0m, in \u001b[0;36m_ThreadpoolInfo._load_modules\u001b[1;34m(self)\u001b[0m\n\u001b[0;32m    371\u001b[0m     \u001b[39mself\u001b[39m\u001b[39m.\u001b[39m_find_modules_with_dyld()\n\u001b[0;32m    372\u001b[0m \u001b[39melif\u001b[39;00m sys\u001b[39m.\u001b[39mplatform \u001b[39m==\u001b[39m \u001b[39m\"\u001b[39m\u001b[39mwin32\u001b[39m\u001b[39m\"\u001b[39m:\n\u001b[1;32m--> 373\u001b[0m     \u001b[39mself\u001b[39;49m\u001b[39m.\u001b[39;49m_find_modules_with_enum_process_module_ex()\n\u001b[0;32m    374\u001b[0m \u001b[39melse\u001b[39;00m:\n\u001b[0;32m    375\u001b[0m     \u001b[39mself\u001b[39m\u001b[39m.\u001b[39m_find_modules_with_dl_iterate_phdr()\n",
      "File \u001b[1;32mc:\\Users\\56988\\anaconda3\\Lib\\site-packages\\threadpoolctl.py:485\u001b[0m, in \u001b[0;36m_ThreadpoolInfo._find_modules_with_enum_process_module_ex\u001b[1;34m(self)\u001b[0m\n\u001b[0;32m    482\u001b[0m         filepath \u001b[39m=\u001b[39m buf\u001b[39m.\u001b[39mvalue\n\u001b[0;32m    484\u001b[0m         \u001b[39m# Store the module if it is supported and selected\u001b[39;00m\n\u001b[1;32m--> 485\u001b[0m         \u001b[39mself\u001b[39;49m\u001b[39m.\u001b[39;49m_make_module_from_path(filepath)\n\u001b[0;32m    486\u001b[0m \u001b[39mfinally\u001b[39;00m:\n\u001b[0;32m    487\u001b[0m     kernel_32\u001b[39m.\u001b[39mCloseHandle(h_process)\n",
      "File \u001b[1;32mc:\\Users\\56988\\anaconda3\\Lib\\site-packages\\threadpoolctl.py:515\u001b[0m, in \u001b[0;36m_ThreadpoolInfo._make_module_from_path\u001b[1;34m(self, filepath)\u001b[0m\n\u001b[0;32m    513\u001b[0m \u001b[39mif\u001b[39;00m prefix \u001b[39min\u001b[39;00m \u001b[39mself\u001b[39m\u001b[39m.\u001b[39mprefixes \u001b[39mor\u001b[39;00m user_api \u001b[39min\u001b[39;00m \u001b[39mself\u001b[39m\u001b[39m.\u001b[39muser_api:\n\u001b[0;32m    514\u001b[0m     module_class \u001b[39m=\u001b[39m \u001b[39mglobals\u001b[39m()[module_class]\n\u001b[1;32m--> 515\u001b[0m     module \u001b[39m=\u001b[39m module_class(filepath, prefix, user_api, internal_api)\n\u001b[0;32m    516\u001b[0m     \u001b[39mself\u001b[39m\u001b[39m.\u001b[39mmodules\u001b[39m.\u001b[39mappend(module)\n",
      "File \u001b[1;32mc:\\Users\\56988\\anaconda3\\Lib\\site-packages\\threadpoolctl.py:606\u001b[0m, in \u001b[0;36m_Module.__init__\u001b[1;34m(self, filepath, prefix, user_api, internal_api)\u001b[0m\n\u001b[0;32m    604\u001b[0m \u001b[39mself\u001b[39m\u001b[39m.\u001b[39minternal_api \u001b[39m=\u001b[39m internal_api\n\u001b[0;32m    605\u001b[0m \u001b[39mself\u001b[39m\u001b[39m.\u001b[39m_dynlib \u001b[39m=\u001b[39m ctypes\u001b[39m.\u001b[39mCDLL(filepath, mode\u001b[39m=\u001b[39m_RTLD_NOLOAD)\n\u001b[1;32m--> 606\u001b[0m \u001b[39mself\u001b[39m\u001b[39m.\u001b[39mversion \u001b[39m=\u001b[39m \u001b[39mself\u001b[39;49m\u001b[39m.\u001b[39;49mget_version()\n\u001b[0;32m    607\u001b[0m \u001b[39mself\u001b[39m\u001b[39m.\u001b[39mnum_threads \u001b[39m=\u001b[39m \u001b[39mself\u001b[39m\u001b[39m.\u001b[39mget_num_threads()\n\u001b[0;32m    608\u001b[0m \u001b[39mself\u001b[39m\u001b[39m.\u001b[39m_get_extra_info()\n",
      "File \u001b[1;32mc:\\Users\\56988\\anaconda3\\Lib\\site-packages\\threadpoolctl.py:646\u001b[0m, in \u001b[0;36m_OpenBLASModule.get_version\u001b[1;34m(self)\u001b[0m\n\u001b[0;32m    643\u001b[0m get_config \u001b[39m=\u001b[39m \u001b[39mgetattr\u001b[39m(\u001b[39mself\u001b[39m\u001b[39m.\u001b[39m_dynlib, \u001b[39m\"\u001b[39m\u001b[39mopenblas_get_config\u001b[39m\u001b[39m\"\u001b[39m,\n\u001b[0;32m    644\u001b[0m                      \u001b[39mlambda\u001b[39;00m: \u001b[39mNone\u001b[39;00m)\n\u001b[0;32m    645\u001b[0m get_config\u001b[39m.\u001b[39mrestype \u001b[39m=\u001b[39m ctypes\u001b[39m.\u001b[39mc_char_p\n\u001b[1;32m--> 646\u001b[0m config \u001b[39m=\u001b[39m get_config()\u001b[39m.\u001b[39;49msplit()\n\u001b[0;32m    647\u001b[0m \u001b[39mif\u001b[39;00m config[\u001b[39m0\u001b[39m] \u001b[39m==\u001b[39m \u001b[39mb\u001b[39m\u001b[39m\"\u001b[39m\u001b[39mOpenBLAS\u001b[39m\u001b[39m\"\u001b[39m:\n\u001b[0;32m    648\u001b[0m     \u001b[39mreturn\u001b[39;00m config[\u001b[39m1\u001b[39m]\u001b[39m.\u001b[39mdecode(\u001b[39m\"\u001b[39m\u001b[39mutf-8\u001b[39m\u001b[39m\"\u001b[39m)\n",
      "\u001b[1;31mAttributeError\u001b[0m: 'NoneType' object has no attribute 'split'"
     ]
    }
   ],
   "source": [
    "# Fit the scaled data to the KMeans object\n",
    "kmeans.fit(df)"
   ]
  },
  {
   "cell_type": "code",
   "execution_count": null,
   "metadata": {},
   "outputs": [],
   "source": [
    "# Append the SSE value to sse list\n",
    "sse.append(kmeans.inertia_)\n"
   ]
  },
  {
   "cell_type": "code",
   "execution_count": null,
   "metadata": {},
   "outputs": [],
   "source": [
    "# Create list to hold SSE values for each k\n",
    "sse = []\n",
    "for k in range(1, 11):\n",
    "    kmeans = KMeans(n_clusters=k, **kmeans_kwargs)\n",
    "    kmeans.fit(data_scaled)\n",
    "    sse.append(kmeans.inertia_)"
   ]
  },
  {
   "cell_type": "code",
   "execution_count": null,
   "metadata": {},
   "outputs": [
    {
     "data": {
      "image/png": "[encoded data removed]",
      "text/plain": [
       "<Figure size 432x288 with 1 Axes>"
      ]
     },
     "metadata": {},
     "output_type": "display_data"
    }
   ],
   "source": [
    "# Visualize results\n",
    "plt.plot(range(1, 11), sse)\n",
    "plt.xticks(range(1, 11))\n",
    "plt.xlabel(\"Number of Clusters\")\n",
    "plt.ylabel(\"SSE\")\n",
    "plt.show()"
   ]
  },
  {
   "cell_type": "code",
   "execution_count": null,
   "metadata": {},
   "outputs": [
    {
     "data": {
      "text/plain": [
       "KMeans(algorithm='auto', copy_x=True, init='random', max_iter=300,\n",
       "    n_clusters=3, n_init=10, n_jobs=1, precompute_distances='auto',\n",
       "    random_state=1, tol=0.0001, verbose=0)"
      ]
     },
     "execution_count": 89,
     "metadata": {},
     "output_type": "execute_result"
    }
   ],
   "source": [
    "# Tune the KMeans model using the optimal number of clusters\n",
    "kmeans = KMeans(n_clusters=3, **kmeans_kwargs)\n",
    "kmeans.fit(data_scaled)"
   ]
  },
  {
   "cell_type": "code",
   "execution_count": null,
   "metadata": {},
   "outputs": [
    {
     "data": {
      "text/plain": [
       "array([1, 1, 1, ..., 2, 2, 0], dtype=int32)"
      ]
     },
     "execution_count": 90,
     "metadata": {},
     "output_type": "execute_result"
    }
   ],
   "source": [
    "# View cluster assignments for each observation\n",
    "kmeans.labels_"
   ]
  },
  {
   "cell_type": "code",
   "execution_count": null,
   "metadata": {},
   "outputs": [],
   "source": [
    "# See results\n",
    "df['cluster'] = kmeans.labels_"
   ]
  },
  {
   "cell_type": "code",
   "execution_count": null,
   "metadata": {},
   "outputs": [
    {
     "name": "stdout",
     "output_type": "stream",
     "text": [
      "             0         1  cluster\n",
      "0     1.121806  1.149455        1\n",
      "1     1.447066  1.064453        1\n",
      "2     1.207810 -0.777352        1\n",
      "3     1.063742  1.295478        1\n",
      "4    -0.036772 -1.087038        2\n",
      "5     1.384604  1.320874        1\n",
      "6     1.111108  0.185881        1\n",
      "7     0.583612 -1.488408        2\n",
      "8     0.974571  0.653913        1\n",
      "9     0.387745  1.236571        1\n",
      "10    0.278340  1.168511        1\n",
      "11    1.251410 -0.788994        1\n",
      "12    0.515730  0.978394        1\n",
      "13   -0.707505  1.520502        0\n",
      "14    1.045232  1.159682        1\n",
      "15    1.493024 -0.905392        1\n",
      "16    0.787607  0.194693        1\n",
      "17    0.130137  0.157655        1\n",
      "18    0.356883 -1.159342        2\n",
      "19    1.692128  1.551899        1\n",
      "20    1.883702  1.017205        1\n",
      "21   -0.036786 -1.087038        2\n",
      "22    1.232513  1.404462        1\n",
      "23    0.176690  1.186851        1\n",
      "24    1.407618  1.357555        1\n",
      "25    0.095704 -1.264798        2\n",
      "26    0.249660 -0.965356        2\n",
      "27   -0.287105  1.102548        0\n",
      "28    2.156986  1.345913        1\n",
      "29    1.568365 -0.900091        1\n",
      "...        ...       ...      ...\n",
      "1342 -0.767715 -1.320176        2\n",
      "1343 -0.490183 -1.471841        2\n",
      "1344  0.320708 -0.287454        1\n",
      "1345  0.631364  0.370339        1\n",
      "1346  0.289776  0.502948        1\n",
      "1347 -2.047852  1.227060        0\n",
      "1348 -1.200797  0.071954        0\n",
      "1349 -0.710426 -0.695179        2\n",
      "1350 -0.229655 -0.703293        2\n",
      "1351  0.311277 -0.003520        1\n",
      "1352  0.371557  0.256770        1\n",
      "1353 -0.111839  0.221505        0\n",
      "1354 -1.346412  0.244430        0\n",
      "1355 -2.321453  1.156870        0\n",
      "1356 -1.587885  0.170711        0\n",
      "1357 -1.064013 -0.394322        0\n",
      "1358 -0.508612 -0.360110        0\n",
      "1359 -0.129360  0.096993        0\n",
      "1360 -0.239708  0.002462        0\n",
      "1361 -0.706238 -0.146372        0\n",
      "1362 -0.915125 -0.056086        0\n",
      "1363 -0.563191 -0.570327        0\n",
      "1364 -1.151707 -1.457728        2\n",
      "1365 -1.737794 -1.318404        2\n",
      "1366 -1.000707  0.310376        0\n",
      "1367 -0.009711 -0.097693        0\n",
      "1368 -0.641313 -1.158984        2\n",
      "1369 -1.472357 -2.621646        2\n",
      "1370 -1.406693 -1.756471        2\n",
      "1371 -1.047122 -0.439822        0\n",
      "\n",
      "[1372 rows x 3 columns]\n"
     ]
    }
   ],
   "source": [
    "# Show\n",
    "print(df)"
   ]
  },
  {
   "cell_type": "code",
   "execution_count": null,
   "metadata": {},
   "outputs": [
    {
     "data": {
      "text/plain": [
       "KMeans(algorithm='auto', copy_x=True, init='random', max_iter=300,\n",
       "    n_clusters=3, n_init=10, n_jobs=1, precompute_distances='auto',\n",
       "    random_state=42, tol=0.0001, verbose=0)"
      ]
     },
     "execution_count": 93,
     "metadata": {},
     "output_type": "execute_result"
    }
   ],
   "source": [
    "# Initialize the centroids\n",
    "kmeans_kwargs = {\"init\": \"random\", \"n_init\": 10, \"max_iter\": 300, \"random_state\": 42}\n",
    "kmeans = KMeans(n_clusters=3, **kmeans_kwargs)\n",
    "kmeans.fit(data_scaled)"
   ]
  },
  {
   "cell_type": "code",
   "execution_count": null,
   "metadata": {},
   "outputs": [],
   "source": [
    "# Map each point to the nearest centroid\n",
    "labels = kmeans.predict(data_scaled)\n",
    "\n",
    "# Update centroids\n",
    "centroids = kmeans.cluster_centers_"
   ]
  },
  {
   "cell_type": "code",
   "execution_count": null,
   "metadata": {
    "scrolled": true
   },
   "outputs": [
    {
     "data": {
      "image/png": "[encoded data removed]",
      "text/plain": [
       "<Figure size 432x288 with 1 Axes>"
      ]
     },
     "metadata": {},
     "output_type": "display_data"
    }
   ],
   "source": [
    "# Plot the clusters and centroids in a cross\n",
    "colors = [\"r\", \"g\", \"b\"]\n",
    "for i in range(3):\n",
    "    plt.scatter(data_scaled[labels == i][:, 0], data_scaled[labels == i][:, 1], c=colors[i])\n",
    "plt.scatter(centroids[:, 0], centroids[:, 1], marker=\"x\", s=200, linewidths=3, color=\"k\") \n",
    "# Add labels to the axes\n",
    "plt.xlabel('V1')\n",
    "plt.ylabel('V2')\n",
    "plt.show()"
   ]
  },
  {
   "cell_type": "code",
   "execution_count": null,
   "metadata": {},
   "outputs": [],
   "source": [
    "# Groups the data by the value of the column that contains the groups (0 or 1 or 2)\n",
    "grouped_data_1 = df[df[\"cluster\"] == 0].groupby(\"cluster\").apply(list)"
   ]
  },
  {
   "cell_type": "code",
   "execution_count": null,
   "metadata": {},
   "outputs": [],
   "source": [
    "grouped_data_2 = df[df[\"cluster\"] == 1].groupby(\"cluster\").apply(list)"
   ]
  },
  {
   "cell_type": "code",
   "execution_count": null,
   "metadata": {},
   "outputs": [],
   "source": [
    "grouped_data_3 = df[df[\"cluster\"] == 2].groupby(\"cluster\").apply(list)"
   ]
  },
  {
   "cell_type": "code",
   "execution_count": null,
   "metadata": {},
   "outputs": [],
   "source": [
    "# Calculate the variance and asymmetry of each group\n",
    "var_data_1 = df[df[\"cluster\"] == 0].groupby(\"cluster\")[[\"0\", \"1\"]].var()"
   ]
  },
  {
   "cell_type": "code",
   "execution_count": null,
   "metadata": {},
   "outputs": [],
   "source": [
    "var_data_2 = df[df[\"cluster\"] == 1].groupby(\"cluster\")[[\"0\", \"1\"]].var()"
   ]
  },
  {
   "cell_type": "code",
   "execution_count": null,
   "metadata": {},
   "outputs": [],
   "source": [
    "var_data_3 = df[df[\"cluster\"] == 2].groupby(\"cluster\")[[\"0\", \"1\"]].var()"
   ]
  },
  {
   "cell_type": "code",
   "execution_count": null,
   "metadata": {},
   "outputs": [],
   "source": [
    "skew_data_1 = df[df[\"cluster\"] == 0].groupby(\"cluster\")[[\"0\", \"1\"]].skew()"
   ]
  },
  {
   "cell_type": "code",
   "execution_count": null,
   "metadata": {},
   "outputs": [],
   "source": [
    "skew_data_2 = df[df[\"cluster\"] == 1].groupby(\"cluster\")[[\"0\", \"1\"]].skew()"
   ]
  },
  {
   "cell_type": "code",
   "execution_count": null,
   "metadata": {},
   "outputs": [],
   "source": [
    "skew_data_3 = df[df[\"cluster\"] == 2].groupby(\"cluster\")[[\"0\", \"1\"]].skew()"
   ]
  },
  {
   "cell_type": "code",
   "execution_count": null,
   "metadata": {},
   "outputs": [
    {
     "name": "stdout",
     "output_type": "stream",
     "text": [
      "Varianza 1:\n",
      "                0         1\n",
      "cluster                    \n",
      "0        0.410466  0.436135\n",
      "Varianza 2:\n",
      "                0         1\n",
      "cluster                    \n",
      "1        0.231104  0.593402\n",
      "Varianza 3:\n",
      "                0         1\n",
      "cluster                    \n",
      "2        0.385501  0.283472\n",
      "Asimetría 1:\n",
      "                0         1\n",
      "cluster                    \n",
      "0       -0.919005  0.632968\n",
      "Asimetría 2:\n",
      "                0         1\n",
      "cluster                    \n",
      "1        0.046892 -0.315668\n",
      "Asimetría 3:\n",
      "               0         1\n",
      "cluster                   \n",
      "2        0.44075 -0.424104\n"
     ]
    }
   ],
   "source": [
    "# Show the results\n",
    "print(\"Varianza 1:\")\n",
    "print(var_data_1)\n",
    "print(\"Varianza 2:\")\n",
    "print(var_data_2)\n",
    "print(\"Varianza 3:\")\n",
    "print(var_data_3)\n",
    "\n",
    "print(\"Asimetría 1:\")\n",
    "print(skew_data_1)\n",
    "print(\"Asimetría 2:\")\n",
    "print(skew_data_2)\n",
    "print(\"Asimetría 3:\")\n",
    "print(skew_data_3)"
   ]
  },
  {
   "cell_type": "code",
   "execution_count": null,
   "metadata": {},
   "outputs": [],
   "source": [
    "#F\n",
    "# Calculate the variance of each group\n",
    "varianza_1 = df[df[\"cluster\"] == 0].groupby(\"cluster\")[[\"0\", \"1\"]].var()\n",
    "varianza_2 = df[df[\"cluster\"] == 1].groupby(\"cluster\")[[\"0\", \"1\"]].var()\n",
    "varianza_3 = df[df[\"cluster\"] == 2].groupby(\"cluster\")[[\"0\", \"1\"]].var()"
   ]
  },
  {
   "cell_type": "code",
   "execution_count": null,
   "metadata": {},
   "outputs": [],
   "source": [
    "# Create a DataFrame with the three variances of each column: 0 and 1\n",
    "variances = pd.DataFrame({'varianza_1':[0.410466, 0.436135], 'varianza_2': [0.231104, 0.593402], 'varianza_3': [0.385501, 0.283472]})\n",
    "\n",
    "# Calculate the mean of the three variances\n",
    "mean_variances = variances.mean(axis=1)"
   ]
  },
  {
   "cell_type": "code",
   "execution_count": null,
   "metadata": {},
   "outputs": [
    {
     "name": "stdout",
     "output_type": "stream",
     "text": [
      "0    0.342357\n",
      "1    0.437670\n",
      "dtype: float64\n"
     ]
    }
   ],
   "source": [
    "print(mean_variances)"
   ]
  },
  {
   "cell_type": "code",
   "execution_count": null,
   "metadata": {},
   "outputs": [],
   "source": [
    "# Calculate the combined variance\n",
    "varianza_combinada = ((len(df[df[\"cluster\"] == 0]) - 1) * variances['varianza_1']) + ((len(df[df[\"cluster\"] == 1]) - 1) * variances['varianza_2']) + ((len(df[df[\"cluster\"] == 2]) - 1) * variances['varianza_3']) / (len(df) - len(variances))"
   ]
  },
  {
   "cell_type": "code",
   "execution_count": null,
   "metadata": {},
   "outputs": [
    {
     "name": "stdout",
     "output_type": "stream",
     "text": [
      "0    344.407758\n",
      "1    577.759403\n",
      "dtype: float64\n"
     ]
    }
   ],
   "source": [
    "print(varianza_combinada)"
   ]
  },
  {
   "cell_type": "code",
   "execution_count": null,
   "metadata": {},
   "outputs": [],
   "source": [
    "#Calculate the mean of each cluster (0, 1)\n",
    "media_c1 = df[df[\"cluster\"] == 0].groupby(\"cluster\")[[\"0\", \"1\"]].mean()\n",
    "media_c2 = df[df[\"cluster\"] == 1].groupby(\"cluster\")[[\"0\", \"1\"]].mean()\n",
    "media_c3 = df[df[\"cluster\"] == 2].groupby(\"cluster\")[[\"0\", \"1\"]].mean()"
   ]
  },
  {
   "cell_type": "code",
   "execution_count": null,
   "metadata": {},
   "outputs": [
    {
     "name": "stdout",
     "output_type": "stream",
     "text": [
      "Media cluster 0:                 0         1\n",
      "cluster                    \n",
      "0       -0.722008  0.345107\n",
      "Media cluster 1:                 0         1\n",
      "cluster                    \n",
      "1        0.918038  0.361762\n",
      "Media cluster 2:                 0         1\n",
      "cluster                    \n",
      "2       -0.759113 -1.479973\n"
     ]
    }
   ],
   "source": [
    "print(\"Media cluster 0:\", media_c1)\n",
    "print(\"Media cluster 1:\", media_c2)\n",
    "print(\"Media cluster 2:\", media_c3)"
   ]
  },
  {
   "cell_type": "code",
   "execution_count": null,
   "metadata": {},
   "outputs": [
    {
     "name": "stdout",
     "output_type": "stream",
     "text": [
      "-8.286212661925366e-17\n"
     ]
    }
   ],
   "source": [
    "# Calculates the general mean column 0 (including the two clusters)\n",
    "mean0 = df[[\"0\"]].mean().mean()\n",
    "print(mean0)"
   ]
  },
  {
   "cell_type": "code",
   "execution_count": null,
   "metadata": {},
   "outputs": [
    {
     "name": "stdout",
     "output_type": "stream",
     "text": [
      "-4.143106330962683e-17\n"
     ]
    }
   ],
   "source": [
    "# Calculate the general mean column 1 (including the two clusters)\n",
    "mean1 = df[[\"1\"]].mean().mean()\n",
    "print(mean1)"
   ]
  },
  {
   "cell_type": "code",
   "execution_count": null,
   "metadata": {},
   "outputs": [
    {
     "name": "stdout",
     "output_type": "stream",
     "text": [
      "5.421643050283197e-18\n"
     ]
    }
   ],
   "source": [
    "# Calculate the overall mean (both columns together, which would be wrong??)\n",
    "mean = df[[\"0\", \"1\"]].mean().mean()\n",
    "print(mean)"
   ]
  },
  {
   "cell_type": "code",
   "execution_count": null,
   "metadata": {},
   "outputs": [
    {
     "name": "stdout",
     "output_type": "stream",
     "text": [
      "La suma de cuadrados entre los grupos es: 9.182730162259418\n"
     ]
    }
   ],
   "source": [
    "# Calculate the general average\n",
    "mean = df[[\"0\", \"1\"]].mean().mean()\n",
    "\n",
    "# Calculate the sum of squares between the groups\n",
    "SS_between = ((df[[\"0\", \"1\"]] - df.groupby(\"cluster\")[[\"0\", \"1\"]].mean()) ** 2).sum().sum()\n",
    "\n",
    "# Calculate the number of groups\n",
    "k = len(df[\"cluster\"].unique())\n",
    "\n",
    "# Calculate the degrees of freedom between the groups\n",
    "df_between = k - 1\n",
    "\n",
    "# Calculate the mean squares between the groups\n",
    "MS_between = SS_between / df_between\n",
    "\n",
    "print(\"The sum of squares between the groups is:\", SS_between)"
   ]
  },
  {
   "cell_type": "code",
   "execution_count": null,
   "metadata": {},
   "outputs": [
    {
     "name": "stdout",
     "output_type": "stream",
     "text": [
      "La suma de cuadrados dentro de los grupos es: 1098.6469003938355\n"
     ]
    }
   ],
   "source": [
    "# Calculate the average of each group\n",
    "group_means = df.groupby(\"cluster\")[[\"0\", \"1\"]].mean()\n",
    "\n",
    "# Calculate the sum of squares within the groups\n",
    "SS_within = ((df[[\"0\", \"1\"]] - df.groupby(\"cluster\")[[\"0\", \"1\"]].transform(\"mean\")) ** 2).sum().sum()\n",
    "\n",
    "# Calculate the number of degrees of freedom within the groups\n",
    "df_within = len(df) - len(group_means)\n",
    "\n",
    "# Calculate the mean squares within the groups\n",
    "MS_within = SS_within / df_within\n",
    "\n",
    "print(\"The sum of squares within the groups is:\", SS_within)\n"
   ]
  },
  {
   "cell_type": "code",
   "execution_count": null,
   "metadata": {},
   "outputs": [
    {
     "name": "stdout",
     "output_type": "stream",
     "text": [
      "inf\n"
     ]
    }
   ],
   "source": [
    "# Calculate the number of degrees of freedom between groups and within groups\n",
    "df_between = len(varianza_1) + len(varianza_2) + len(varianza_3) - 3\n",
    "df_within = len(df) - len(varianza_1) - len(varianza_2) - len(varianza_3)\n",
    "\n",
    "# Calculate the F test\n",
    "F = (SS_between / df_between) / (SS_within / df_within)\n",
    "\n",
    "print(F) #inf is too large a number, \"infinity\" (The variance within the group was close to zero,\n",
    "# which makes F large, infinite)"
   ]
  },
  {
   "cell_type": "code",
   "execution_count": null,
   "metadata": {},
   "outputs": [],
   "source": [
    "# Calculate the F statistic and p value\n",
    "estadistico_f = (SS_between / (len(variances) - 1)) / (SS_within / (len(df) - len(variances)))\n",
    "valor_p = stats.f.sf(estadistico_f, len(variances) - 1, len(df) - len(variances))"
   ]
  },
  {
   "cell_type": "code",
   "execution_count": null,
   "metadata": {},
   "outputs": [
    {
     "name": "stdout",
     "output_type": "stream",
     "text": [
      "Varianza de cada grupo: [[0.410466 0.231104 0.385501]\n",
      " [0.436135 0.593402 0.283472]]\n",
      "Media de las varianzas: 0    0.342357\n",
      "1    0.437670\n",
      "dtype: float64\n",
      "Varianza combinada: 0    344.407758\n",
      "1    577.759403\n",
      "dtype: float64\n",
      "Suma de cuadrados entre grupos: 9.182730162259418\n",
      "Suma de cuadrados dentro de los grupos: 1098.6469003938355\n",
      "Estadístico F: 11.450758490089662, valor p: 0.0007348319985942701\n"
     ]
    }
   ],
   "source": [
    "print(f'Varianza de cada grupo: {variances.values}')\n",
    "print(f'Media de las varianzas: {mean_variances}')\n",
    "print(f'Varianza combinada: {varianza_combinada}')\n",
    "print(f'Suma de cuadrados entre grupos: {SS_between}')\n",
    "print(f'Suma de cuadrados dentro de los grupos: {SS_within}')\n",
    "print(f'Estadístico F: {estadistico_f}, valor p: {valor_p}')"
   ]
  },
  {
   "cell_type": "code",
   "execution_count": null,
   "metadata": {},
   "outputs": [],
   "source": [
    "#t\n",
    "# Calculate the mean and standard deviation of each group\n",
    "media = df.groupby(\"cluster\")[[\"0\", \"1\"]].mean()\n",
    "desviacion_estandar = df.groupby(\"cluster\")[[\"0\", \"1\"]].std()"
   ]
  },
  {
   "cell_type": "code",
   "execution_count": null,
   "metadata": {},
   "outputs": [
    {
     "name": "stdout",
     "output_type": "stream",
     "text": [
      "Media de cada grupo:\n",
      "                0         1\n",
      "cluster                    \n",
      "0       -0.722008  0.345107\n",
      "1        0.918038  0.361762\n",
      "2       -0.759113 -1.479973\n",
      "\n",
      "Desviación estándar de cada grupo:\n",
      "                0         1\n",
      "cluster                    \n",
      "0        0.640676  0.660405\n",
      "1        0.480732  0.770326\n",
      "2        0.620887  0.532421\n",
      "\n"
     ]
    }
   ],
   "source": [
    "print(f'Media de cada grupo:\\n{media}\\n')\n",
    "print(f'Desviación estándar de cada grupo:\\n{desviacion_estandar}\\n')"
   ]
  },
  {
   "cell_type": "code",
   "execution_count": null,
   "metadata": {},
   "outputs": [],
   "source": [
    "# Calculate the t-statistic and p-value\n",
    "t_statistic, p_value = stats.ttest_ind(df[\"0\"], df[\"1\"])"
   ]
  },
  {
   "cell_type": "code",
   "execution_count": null,
   "metadata": {},
   "outputs": [
    {
     "name": "stdout",
     "output_type": "stream",
     "text": [
      "Estadístico t: -1.0847503750980699e-15\n",
      "Valor p: 0.9999999999999991\n"
     ]
    }
   ],
   "source": [
    "print(f'Estadístico t: {t_statistic}')\n",
    "print(f'Valor p: {p_value}')"
   ]
  },
  {
   "cell_type": "code",
   "execution_count": null,
   "metadata": {},
   "outputs": [],
   "source": [
    "# Last conclusions:\n",
    "# Three clusters (0, 1, 2) via Kmeans, column V1, variance of transformed images and column V2,\n",
    "# asymmetry of the transformed images, with 1372 data each, with a mean (± is standard deviation) cluster 0,\n",
    "# mean V1 column -0.722 ± 0.640, mean V2 column 0.345 ± 0.660; cluster 1, column V1 mean 0.918 ± 0.480,\n",
    "# column V2 mean 0.361 ± 0.770; cluster 2, column V1 mean -0.759 ± 0.620, column V2 mean -1.479 ± 0.532.\n",
    "# With Statistic F= 11.450 and p = 0.0007, t=-1.084*10-15 and p=0.999, what does all this mean? The results are the following:\n",
    "# The data from 1372 transformed images have been used to create three clusters (0, 1) using the Kmeans algorithm.\n",
    "# Column V1 represents the variance of the transformed images and column V2 represents the skewness of the images\n",
    "# transformed.\n",
    "# In addition, an F statistic of 11.450 with a p value of 0.0007 has been obtained. This result indicates that there is a relationship\n",
    "# significant between the predictor variables (column V1 and column V2) and the response variable (the clusters,\n",
    "# well classified). In other words, the model is significant and the predictor variables have a significant effect\n",
    "# about clusters.\n",
    "# On the other hand, the t value it provides is very small (-1.084 x 10^-15) and the p value is very large (0.999).\n",
    "# This suggests that there is no significant difference between the groups in terms of the predictor variables."
   ]
  }
 ],
 "metadata": {
  "kernelspec": {
   "display_name": "Python 3",
   "language": "python",
   "name": "python3"
  },
  "language_info": {
   "codemirror_mode": {
    "name": "ipython",
    "version": 3
   },
   "file_extension": ".py",
   "mimetype": "text/x-python",
   "name": "python",
   "nbconvert_exporter": "python",
   "pygments_lexer": "ipython3",
   "version": "3.11.4"
  }
 },
 "nbformat": 4,
 "nbformat_minor": 2
}
