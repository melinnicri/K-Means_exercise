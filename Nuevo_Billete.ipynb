{
 "cells": [
  {
   "cell_type": "code",
   "execution_count": 1,
   "metadata": {},
   "outputs": [],
   "source": [
    "# We import libraries that we will use\n",
    "import numpy as np\n",
    "import matplotlib.pyplot as plt\n",
    "import pandas as pd"
   ]
  },
  {
   "cell_type": "code",
   "execution_count": 2,
   "metadata": {},
   "outputs": [],
   "source": [
    "# We read dataframe from .csv\n",
    "df = pd.read_csv(\"Backnotes.csv\")"
   ]
  },
  {
   "cell_type": "code",
   "execution_count": 3,
   "metadata": {},
   "outputs": [
    {
     "data": {
      "text/html": [
       "<div>\n",
       "<style scoped>\n",
       "    .dataframe tbody tr th:only-of-type {\n",
       "        vertical-align: middle;\n",
       "    }\n",
       "\n",
       "    .dataframe tbody tr th {\n",
       "        vertical-align: top;\n",
       "    }\n",
       "\n",
       "    .dataframe thead th {\n",
       "        text-align: right;\n",
       "    }\n",
       "</style>\n",
       "<table border=\"1\" class=\"dataframe\">\n",
       "  <thead>\n",
       "    <tr style=\"text-align: right;\">\n",
       "      <th></th>\n",
       "      <th>V1</th>\n",
       "      <th>V2</th>\n",
       "    </tr>\n",
       "  </thead>\n",
       "  <tbody>\n",
       "    <tr>\n",
       "      <th>0</th>\n",
       "      <td>3.621600</td>\n",
       "      <td>8.66610</td>\n",
       "    </tr>\n",
       "    <tr>\n",
       "      <th>1</th>\n",
       "      <td>4.545900</td>\n",
       "      <td>8.16740</td>\n",
       "    </tr>\n",
       "    <tr>\n",
       "      <th>2</th>\n",
       "      <td>3.866000</td>\n",
       "      <td>-2.63830</td>\n",
       "    </tr>\n",
       "    <tr>\n",
       "      <th>3</th>\n",
       "      <td>3.456600</td>\n",
       "      <td>9.52280</td>\n",
       "    </tr>\n",
       "    <tr>\n",
       "      <th>4</th>\n",
       "      <td>0.329240</td>\n",
       "      <td>-4.45520</td>\n",
       "    </tr>\n",
       "    <tr>\n",
       "      <th>5</th>\n",
       "      <td>4.368400</td>\n",
       "      <td>9.67180</td>\n",
       "    </tr>\n",
       "    <tr>\n",
       "      <th>6</th>\n",
       "      <td>3.591200</td>\n",
       "      <td>3.01290</td>\n",
       "    </tr>\n",
       "    <tr>\n",
       "      <th>7</th>\n",
       "      <td>2.092200</td>\n",
       "      <td>-6.81000</td>\n",
       "    </tr>\n",
       "    <tr>\n",
       "      <th>8</th>\n",
       "      <td>3.203200</td>\n",
       "      <td>5.75880</td>\n",
       "    </tr>\n",
       "    <tr>\n",
       "      <th>9</th>\n",
       "      <td>1.535600</td>\n",
       "      <td>9.17720</td>\n",
       "    </tr>\n",
       "    <tr>\n",
       "      <th>10</th>\n",
       "      <td>1.224700</td>\n",
       "      <td>8.77790</td>\n",
       "    </tr>\n",
       "    <tr>\n",
       "      <th>11</th>\n",
       "      <td>3.989900</td>\n",
       "      <td>-2.70660</td>\n",
       "    </tr>\n",
       "    <tr>\n",
       "      <th>12</th>\n",
       "      <td>1.899300</td>\n",
       "      <td>7.66250</td>\n",
       "    </tr>\n",
       "    <tr>\n",
       "      <th>13</th>\n",
       "      <td>-1.576800</td>\n",
       "      <td>10.84300</td>\n",
       "    </tr>\n",
       "    <tr>\n",
       "      <th>14</th>\n",
       "      <td>3.404000</td>\n",
       "      <td>8.72610</td>\n",
       "    </tr>\n",
       "    <tr>\n",
       "      <th>15</th>\n",
       "      <td>4.676500</td>\n",
       "      <td>-3.38950</td>\n",
       "    </tr>\n",
       "    <tr>\n",
       "      <th>16</th>\n",
       "      <td>2.671900</td>\n",
       "      <td>3.06460</td>\n",
       "    </tr>\n",
       "    <tr>\n",
       "      <th>17</th>\n",
       "      <td>0.803550</td>\n",
       "      <td>2.84730</td>\n",
       "    </tr>\n",
       "    <tr>\n",
       "      <th>18</th>\n",
       "      <td>1.447900</td>\n",
       "      <td>-4.87940</td>\n",
       "    </tr>\n",
       "    <tr>\n",
       "      <th>19</th>\n",
       "      <td>5.242300</td>\n",
       "      <td>11.02720</td>\n",
       "    </tr>\n",
       "    <tr>\n",
       "      <th>20</th>\n",
       "      <td>5.786700</td>\n",
       "      <td>7.89020</td>\n",
       "    </tr>\n",
       "    <tr>\n",
       "      <th>21</th>\n",
       "      <td>0.329200</td>\n",
       "      <td>-4.45520</td>\n",
       "    </tr>\n",
       "    <tr>\n",
       "      <th>22</th>\n",
       "      <td>3.936200</td>\n",
       "      <td>10.16220</td>\n",
       "    </tr>\n",
       "    <tr>\n",
       "      <th>23</th>\n",
       "      <td>0.935840</td>\n",
       "      <td>8.88550</td>\n",
       "    </tr>\n",
       "    <tr>\n",
       "      <th>24</th>\n",
       "      <td>4.433800</td>\n",
       "      <td>9.88700</td>\n",
       "    </tr>\n",
       "    <tr>\n",
       "      <th>25</th>\n",
       "      <td>0.705700</td>\n",
       "      <td>-5.49810</td>\n",
       "    </tr>\n",
       "    <tr>\n",
       "      <th>26</th>\n",
       "      <td>1.143200</td>\n",
       "      <td>-3.74130</td>\n",
       "    </tr>\n",
       "    <tr>\n",
       "      <th>27</th>\n",
       "      <td>-0.382140</td>\n",
       "      <td>8.39090</td>\n",
       "    </tr>\n",
       "    <tr>\n",
       "      <th>28</th>\n",
       "      <td>6.563300</td>\n",
       "      <td>9.81870</td>\n",
       "    </tr>\n",
       "    <tr>\n",
       "      <th>29</th>\n",
       "      <td>4.890600</td>\n",
       "      <td>-3.35840</td>\n",
       "    </tr>\n",
       "    <tr>\n",
       "      <th>...</th>\n",
       "      <td>...</td>\n",
       "      <td>...</td>\n",
       "    </tr>\n",
       "    <tr>\n",
       "      <th>1342</th>\n",
       "      <td>-1.747900</td>\n",
       "      <td>-5.82300</td>\n",
       "    </tr>\n",
       "    <tr>\n",
       "      <th>1343</th>\n",
       "      <td>-0.959230</td>\n",
       "      <td>-6.71280</td>\n",
       "    </tr>\n",
       "    <tr>\n",
       "      <th>1344</th>\n",
       "      <td>1.345100</td>\n",
       "      <td>0.23589</td>\n",
       "    </tr>\n",
       "    <tr>\n",
       "      <th>1345</th>\n",
       "      <td>2.227900</td>\n",
       "      <td>4.09510</td>\n",
       "    </tr>\n",
       "    <tr>\n",
       "      <th>1346</th>\n",
       "      <td>1.257200</td>\n",
       "      <td>4.87310</td>\n",
       "    </tr>\n",
       "    <tr>\n",
       "      <th>1347</th>\n",
       "      <td>-5.385700</td>\n",
       "      <td>9.12140</td>\n",
       "    </tr>\n",
       "    <tr>\n",
       "      <th>1348</th>\n",
       "      <td>-2.978600</td>\n",
       "      <td>2.34450</td>\n",
       "    </tr>\n",
       "    <tr>\n",
       "      <th>1349</th>\n",
       "      <td>-1.585100</td>\n",
       "      <td>-2.15620</td>\n",
       "    </tr>\n",
       "    <tr>\n",
       "      <th>1350</th>\n",
       "      <td>-0.218880</td>\n",
       "      <td>-2.20380</td>\n",
       "    </tr>\n",
       "    <tr>\n",
       "      <th>1351</th>\n",
       "      <td>1.318300</td>\n",
       "      <td>1.90170</td>\n",
       "    </tr>\n",
       "    <tr>\n",
       "      <th>1352</th>\n",
       "      <td>1.489600</td>\n",
       "      <td>3.42880</td>\n",
       "    </tr>\n",
       "    <tr>\n",
       "      <th>1353</th>\n",
       "      <td>0.115920</td>\n",
       "      <td>3.22190</td>\n",
       "    </tr>\n",
       "    <tr>\n",
       "      <th>1354</th>\n",
       "      <td>-3.392400</td>\n",
       "      <td>3.35640</td>\n",
       "    </tr>\n",
       "    <tr>\n",
       "      <th>1355</th>\n",
       "      <td>-6.163200</td>\n",
       "      <td>8.70960</td>\n",
       "    </tr>\n",
       "    <tr>\n",
       "      <th>1356</th>\n",
       "      <td>-4.078600</td>\n",
       "      <td>2.92390</td>\n",
       "    </tr>\n",
       "    <tr>\n",
       "      <th>1357</th>\n",
       "      <td>-2.589900</td>\n",
       "      <td>-0.39110</td>\n",
       "    </tr>\n",
       "    <tr>\n",
       "      <th>1358</th>\n",
       "      <td>-1.011600</td>\n",
       "      <td>-0.19038</td>\n",
       "    </tr>\n",
       "    <tr>\n",
       "      <th>1359</th>\n",
       "      <td>0.066129</td>\n",
       "      <td>2.49140</td>\n",
       "    </tr>\n",
       "    <tr>\n",
       "      <th>1360</th>\n",
       "      <td>-0.247450</td>\n",
       "      <td>1.93680</td>\n",
       "    </tr>\n",
       "    <tr>\n",
       "      <th>1361</th>\n",
       "      <td>-1.573200</td>\n",
       "      <td>1.06360</td>\n",
       "    </tr>\n",
       "    <tr>\n",
       "      <th>1362</th>\n",
       "      <td>-2.166800</td>\n",
       "      <td>1.59330</td>\n",
       "    </tr>\n",
       "    <tr>\n",
       "      <th>1363</th>\n",
       "      <td>-1.166700</td>\n",
       "      <td>-1.42370</td>\n",
       "    </tr>\n",
       "    <tr>\n",
       "      <th>1364</th>\n",
       "      <td>-2.839100</td>\n",
       "      <td>-6.63000</td>\n",
       "    </tr>\n",
       "    <tr>\n",
       "      <th>1365</th>\n",
       "      <td>-4.504600</td>\n",
       "      <td>-5.81260</td>\n",
       "    </tr>\n",
       "    <tr>\n",
       "      <th>1366</th>\n",
       "      <td>-2.410000</td>\n",
       "      <td>3.74330</td>\n",
       "    </tr>\n",
       "    <tr>\n",
       "      <th>1367</th>\n",
       "      <td>0.406140</td>\n",
       "      <td>1.34920</td>\n",
       "    </tr>\n",
       "    <tr>\n",
       "      <th>1368</th>\n",
       "      <td>-1.388700</td>\n",
       "      <td>-4.87730</td>\n",
       "    </tr>\n",
       "    <tr>\n",
       "      <th>1369</th>\n",
       "      <td>-3.750300</td>\n",
       "      <td>-13.45860</td>\n",
       "    </tr>\n",
       "    <tr>\n",
       "      <th>1370</th>\n",
       "      <td>-3.563700</td>\n",
       "      <td>-8.38270</td>\n",
       "    </tr>\n",
       "    <tr>\n",
       "      <th>1371</th>\n",
       "      <td>-2.541900</td>\n",
       "      <td>-0.65804</td>\n",
       "    </tr>\n",
       "  </tbody>\n",
       "</table>\n",
       "<p>1372 rows × 2 columns</p>\n",
       "</div>"
      ],
      "text/plain": [
       "            V1        V2\n",
       "0     3.621600   8.66610\n",
       "1     4.545900   8.16740\n",
       "2     3.866000  -2.63830\n",
       "3     3.456600   9.52280\n",
       "4     0.329240  -4.45520\n",
       "5     4.368400   9.67180\n",
       "6     3.591200   3.01290\n",
       "7     2.092200  -6.81000\n",
       "8     3.203200   5.75880\n",
       "9     1.535600   9.17720\n",
       "10    1.224700   8.77790\n",
       "11    3.989900  -2.70660\n",
       "12    1.899300   7.66250\n",
       "13   -1.576800  10.84300\n",
       "14    3.404000   8.72610\n",
       "15    4.676500  -3.38950\n",
       "16    2.671900   3.06460\n",
       "17    0.803550   2.84730\n",
       "18    1.447900  -4.87940\n",
       "19    5.242300  11.02720\n",
       "20    5.786700   7.89020\n",
       "21    0.329200  -4.45520\n",
       "22    3.936200  10.16220\n",
       "23    0.935840   8.88550\n",
       "24    4.433800   9.88700\n",
       "25    0.705700  -5.49810\n",
       "26    1.143200  -3.74130\n",
       "27   -0.382140   8.39090\n",
       "28    6.563300   9.81870\n",
       "29    4.890600  -3.35840\n",
       "...        ...       ...\n",
       "1342 -1.747900  -5.82300\n",
       "1343 -0.959230  -6.71280\n",
       "1344  1.345100   0.23589\n",
       "1345  2.227900   4.09510\n",
       "1346  1.257200   4.87310\n",
       "1347 -5.385700   9.12140\n",
       "1348 -2.978600   2.34450\n",
       "1349 -1.585100  -2.15620\n",
       "1350 -0.218880  -2.20380\n",
       "1351  1.318300   1.90170\n",
       "1352  1.489600   3.42880\n",
       "1353  0.115920   3.22190\n",
       "1354 -3.392400   3.35640\n",
       "1355 -6.163200   8.70960\n",
       "1356 -4.078600   2.92390\n",
       "1357 -2.589900  -0.39110\n",
       "1358 -1.011600  -0.19038\n",
       "1359  0.066129   2.49140\n",
       "1360 -0.247450   1.93680\n",
       "1361 -1.573200   1.06360\n",
       "1362 -2.166800   1.59330\n",
       "1363 -1.166700  -1.42370\n",
       "1364 -2.839100  -6.63000\n",
       "1365 -4.504600  -5.81260\n",
       "1366 -2.410000   3.74330\n",
       "1367  0.406140   1.34920\n",
       "1368 -1.388700  -4.87730\n",
       "1369 -3.750300 -13.45860\n",
       "1370 -3.563700  -8.38270\n",
       "1371 -2.541900  -0.65804\n",
       "\n",
       "[1372 rows x 2 columns]"
      ]
     },
     "execution_count": 3,
     "metadata": {},
     "output_type": "execute_result"
    }
   ],
   "source": [
    "#We see the data.\n",
    "#V1. variance of Wavelet Transformed image (continuous).\n",
    "#V2. skewness of Wavelet Transformed image (continuous).\n",
    "df"
   ]
  },
  {
   "cell_type": "code",
   "execution_count": 4,
   "metadata": {},
   "outputs": [
    {
     "name": "stdout",
     "output_type": "stream",
     "text": [
      "<class 'pandas.core.frame.DataFrame'>\n",
      "RangeIndex: 1372 entries, 0 to 1371\n",
      "Data columns (total 2 columns):\n",
      "V1    1372 non-null float64\n",
      "V2    1372 non-null float64\n",
      "dtypes: float64(2)\n",
      "memory usage: 21.5 KB\n"
     ]
    }
   ],
   "source": [
    "# A little info\n",
    "df.info()"
   ]
  },
  {
   "cell_type": "code",
   "execution_count": 5,
   "metadata": {},
   "outputs": [
    {
     "data": {
      "text/html": [
       "<div>\n",
       "<style scoped>\n",
       "    .dataframe tbody tr th:only-of-type {\n",
       "        vertical-align: middle;\n",
       "    }\n",
       "\n",
       "    .dataframe tbody tr th {\n",
       "        vertical-align: top;\n",
       "    }\n",
       "\n",
       "    .dataframe thead th {\n",
       "        text-align: right;\n",
       "    }\n",
       "</style>\n",
       "<table border=\"1\" class=\"dataframe\">\n",
       "  <thead>\n",
       "    <tr style=\"text-align: right;\">\n",
       "      <th></th>\n",
       "      <th>V1</th>\n",
       "      <th>V2</th>\n",
       "    </tr>\n",
       "  </thead>\n",
       "  <tbody>\n",
       "    <tr>\n",
       "      <th>count</th>\n",
       "      <td>1372.000000</td>\n",
       "      <td>1372.000000</td>\n",
       "    </tr>\n",
       "    <tr>\n",
       "      <th>mean</th>\n",
       "      <td>0.433735</td>\n",
       "      <td>1.922353</td>\n",
       "    </tr>\n",
       "    <tr>\n",
       "      <th>std</th>\n",
       "      <td>2.842763</td>\n",
       "      <td>5.869047</td>\n",
       "    </tr>\n",
       "    <tr>\n",
       "      <th>min</th>\n",
       "      <td>-7.042100</td>\n",
       "      <td>-13.773100</td>\n",
       "    </tr>\n",
       "    <tr>\n",
       "      <th>25%</th>\n",
       "      <td>-1.773000</td>\n",
       "      <td>-1.708200</td>\n",
       "    </tr>\n",
       "    <tr>\n",
       "      <th>50%</th>\n",
       "      <td>0.496180</td>\n",
       "      <td>2.319650</td>\n",
       "    </tr>\n",
       "    <tr>\n",
       "      <th>75%</th>\n",
       "      <td>2.821475</td>\n",
       "      <td>6.814625</td>\n",
       "    </tr>\n",
       "    <tr>\n",
       "      <th>max</th>\n",
       "      <td>6.824800</td>\n",
       "      <td>12.951600</td>\n",
       "    </tr>\n",
       "  </tbody>\n",
       "</table>\n",
       "</div>"
      ],
      "text/plain": [
       "                V1           V2\n",
       "count  1372.000000  1372.000000\n",
       "mean      0.433735     1.922353\n",
       "std       2.842763     5.869047\n",
       "min      -7.042100   -13.773100\n",
       "25%      -1.773000    -1.708200\n",
       "50%       0.496180     2.319650\n",
       "75%       2.821475     6.814625\n",
       "max       6.824800    12.951600"
      ]
     },
     "execution_count": 5,
     "metadata": {},
     "output_type": "execute_result"
    }
   ],
   "source": [
    "# A general statistical description: V1, variance of the transformed images and V2, skewness of the transformed images,\n",
    "# we have 1372 data each, with an average of V1,0.433 and V2, 1.922. Standard deviation of V1, 2.842 and V2, 5.869 (this means,\n",
    "# how far the data is from the mean, V2 is twice as far from V1). 75% of the data (are less than these values),\n",
    "# V2 (6,814) is double V1 (2,821). The minimum for V1 is -7.042 and for V2 is -13.773; the maximum for V1 is 6,824 and for\n",
    "# V2 is 12,951.\n",
    "df.describe()"
   ]
  },
  {
   "cell_type": "code",
   "execution_count": 6,
   "metadata": {},
   "outputs": [
    {
     "data": {
      "image/png": "[encoded data removed]",
      "text/plain": [
       "<Figure size 432x288 with 1 Axes>"
      ]
     },
     "metadata": {},
     "output_type": "display_data"
    }
   ],
   "source": [
    "df.plot.scatter(x='V1', y='V2')\n",
    "plt.show()"
   ]
  },
  {
   "cell_type": "code",
   "execution_count": 7,
   "metadata": {},
   "outputs": [],
   "source": [
    "import seaborn as sb\n",
    "from sklearn.cluster import KMeans\n",
    "from sklearn.metrics import pairwise_distances_argmin_min\n",
    "from sklearn.datasets import make_blobs\n",
    "from sklearn.cluster import KMeans\n",
    "from sklearn.metrics import silhouette_score\n",
    "from sklearn.preprocessing import StandardScaler"
   ]
  },
  {
   "cell_type": "code",
   "execution_count": 8,
   "metadata": {},
   "outputs": [
    {
     "data": {
      "text/html": [
       "<div>\n",
       "<style scoped>\n",
       "    .dataframe tbody tr th:only-of-type {\n",
       "        vertical-align: middle;\n",
       "    }\n",
       "\n",
       "    .dataframe tbody tr th {\n",
       "        vertical-align: top;\n",
       "    }\n",
       "\n",
       "    .dataframe thead th {\n",
       "        text-align: right;\n",
       "    }\n",
       "</style>\n",
       "<table border=\"1\" class=\"dataframe\">\n",
       "  <thead>\n",
       "    <tr style=\"text-align: right;\">\n",
       "      <th></th>\n",
       "      <th>0</th>\n",
       "      <th>1</th>\n",
       "    </tr>\n",
       "  </thead>\n",
       "  <tbody>\n",
       "    <tr>\n",
       "      <th>count</th>\n",
       "      <td>1.372000e+03</td>\n",
       "      <td>1.372000e+03</td>\n",
       "    </tr>\n",
       "    <tr>\n",
       "      <th>mean</th>\n",
       "      <td>-8.286213e-17</td>\n",
       "      <td>-4.143106e-17</td>\n",
       "    </tr>\n",
       "    <tr>\n",
       "      <th>std</th>\n",
       "      <td>1.000365e+00</td>\n",
       "      <td>1.000365e+00</td>\n",
       "    </tr>\n",
       "    <tr>\n",
       "      <th>min</th>\n",
       "      <td>-2.630737e+00</td>\n",
       "      <td>-2.675252e+00</td>\n",
       "    </tr>\n",
       "    <tr>\n",
       "      <th>25%</th>\n",
       "      <td>-7.765474e-01</td>\n",
       "      <td>-6.188189e-01</td>\n",
       "    </tr>\n",
       "    <tr>\n",
       "      <th>50%</th>\n",
       "      <td>2.197423e-02</td>\n",
       "      <td>6.771828e-02</td>\n",
       "    </tr>\n",
       "    <tr>\n",
       "      <th>75%</th>\n",
       "      <td>8.402427e-01</td>\n",
       "      <td>8.338757e-01</td>\n",
       "    </tr>\n",
       "    <tr>\n",
       "      <th>max</th>\n",
       "      <td>2.249008e+00</td>\n",
       "      <td>1.879908e+00</td>\n",
       "    </tr>\n",
       "  </tbody>\n",
       "</table>\n",
       "</div>"
      ],
      "text/plain": [
       "                  0             1\n",
       "count  1.372000e+03  1.372000e+03\n",
       "mean  -8.286213e-17 -4.143106e-17\n",
       "std    1.000365e+00  1.000365e+00\n",
       "min   -2.630737e+00 -2.675252e+00\n",
       "25%   -7.765474e-01 -6.188189e-01\n",
       "50%    2.197423e-02  6.771828e-02\n",
       "75%    8.402427e-01  8.338757e-01\n",
       "max    2.249008e+00  1.879908e+00"
      ]
     },
     "execution_count": 8,
     "metadata": {},
     "output_type": "execute_result"
    }
   ],
   "source": [
    "# standardizing the data\n",
    "scaler = StandardScaler()\n",
    "data_scaled = scaler.fit_transform(df)\n",
    "\n",
    "# statistics of scaled data\n",
    "pd.DataFrame(data_scaled).describe()"
   ]
  },
  {
   "cell_type": "code",
   "execution_count": 9,
   "metadata": {},
   "outputs": [
    {
     "data": {
      "text/plain": [
       "array([[ 1.12180565,  1.14945512],\n",
       "       [ 1.44706568,  1.06445293],\n",
       "       [ 1.20780971, -0.77735215],\n",
       "       ...,\n",
       "       [-1.47235682, -2.62164576],\n",
       "       [-1.40669251, -1.75647104],\n",
       "       [-1.04712236, -0.43982168]])"
      ]
     },
     "execution_count": 9,
     "metadata": {},
     "output_type": "execute_result"
    }
   ],
   "source": [
    "data_scaled"
   ]
  },
  {
   "cell_type": "code",
   "execution_count": 10,
   "metadata": {},
   "outputs": [
    {
     "data": {
      "image/png": "[encoded data removed]",
      "text/plain": [
       "<Figure size 432x288 with 1 Axes>"
      ]
     },
     "metadata": {},
     "output_type": "display_data"
    }
   ],
   "source": [
    "# convert numpy.ndarray to pandas.DataFrame\n",
    "df = pd.DataFrame(data_scaled, columns=['0', '1'])\n",
    "\n",
    "# create scatter plot\n",
    "df.plot.scatter(x='0', y='1')\n",
    "plt.show()"
   ]
  },
  {
   "cell_type": "code",
   "execution_count": 11,
   "metadata": {},
   "outputs": [],
   "source": [
    "#initialize kmeans parameters\n",
    "kmeans_kwargs = {\n",
    "\"init\": \"random\",\n",
    "\"n_init\": 10,\n",
    "\"random_state\": 1,\n",
    "}"
   ]
  },
  {
   "cell_type": "code",
   "execution_count": 12,
   "metadata": {},
   "outputs": [],
   "source": [
    "# create list to hold SSE values for each k\n",
    "sse = []\n",
    "\n",
    "# iterate over k values\n",
    "for k in range(1, 11):\n",
    "    # create KMeans object with n_clusters=k and **kmeans_kwargs\n",
    "    kmeans = KMeans(n_clusters=k, **kmeans_kwargs)"
   ]
  },
  {
   "cell_type": "code",
   "execution_count": 13,
   "metadata": {},
   "outputs": [],
   "source": [
    "# fit the scaled data to the KMeans object\n",
    "try:\n",
    "    kmeans.fit(df)\n",
    "except AttributeError as e:\n",
    "    if str(e) == \"'NoneType' object has no attribute 'split'\":\n",
    "        print(\"Error: get_config() returned None. Please check your configuration.\")\n",
    "    else:\n",
    "        raise e\n"
   ]
  },
  {
   "cell_type": "code",
   "execution_count": 14,
   "metadata": {},
   "outputs": [],
   "source": [
    "# convert numpy.ndarray to pandas.DataFrame\n",
    "df = pd.DataFrame(data_scaled, columns=['0', '1'])"
   ]
  },
  {
   "cell_type": "code",
   "execution_count": 15,
   "metadata": {},
   "outputs": [
    {
     "name": "stdout",
     "output_type": "stream",
     "text": [
      "          0      1\n",
      "0     False  False\n",
      "1     False  False\n",
      "2     False  False\n",
      "3     False  False\n",
      "4     False  False\n",
      "5     False  False\n",
      "6     False  False\n",
      "7     False  False\n",
      "8     False  False\n",
      "9     False  False\n",
      "10    False  False\n",
      "11    False  False\n",
      "12    False  False\n",
      "13    False  False\n",
      "14    False  False\n",
      "15    False  False\n",
      "16    False  False\n",
      "17    False  False\n",
      "18    False  False\n",
      "19    False  False\n",
      "20    False  False\n",
      "21    False  False\n",
      "22    False  False\n",
      "23    False  False\n",
      "24    False  False\n",
      "25    False  False\n",
      "26    False  False\n",
      "27    False  False\n",
      "28    False  False\n",
      "29    False  False\n",
      "...     ...    ...\n",
      "1342  False  False\n",
      "1343  False  False\n",
      "1344  False  False\n",
      "1345  False  False\n",
      "1346  False  False\n",
      "1347  False  False\n",
      "1348  False  False\n",
      "1349  False  False\n",
      "1350  False  False\n",
      "1351  False  False\n",
      "1352  False  False\n",
      "1353  False  False\n",
      "1354  False  False\n",
      "1355  False  False\n",
      "1356  False  False\n",
      "1357  False  False\n",
      "1358  False  False\n",
      "1359  False  False\n",
      "1360  False  False\n",
      "1361  False  False\n",
      "1362  False  False\n",
      "1363  False  False\n",
      "1364  False  False\n",
      "1365  False  False\n",
      "1366  False  False\n",
      "1367  False  False\n",
      "1368  False  False\n",
      "1369  False  False\n",
      "1370  False  False\n",
      "1371  False  False\n",
      "\n",
      "[1372 rows x 2 columns]\n"
     ]
    }
   ],
   "source": [
    "# Count if there are nulls\n",
    "print(df.isnull())"
   ]
  },
  {
   "cell_type": "code",
   "execution_count": 16,
   "metadata": {},
   "outputs": [
    {
     "name": "stdout",
     "output_type": "stream",
     "text": [
      "          0      1\n",
      "0     False  False\n",
      "1     False  False\n",
      "2     False  False\n",
      "3     False  False\n",
      "4     False  False\n",
      "5     False  False\n",
      "6     False  False\n",
      "7     False  False\n",
      "8     False  False\n",
      "9     False  False\n",
      "10    False  False\n",
      "11    False  False\n",
      "12    False  False\n",
      "13    False  False\n",
      "14    False  False\n",
      "15    False  False\n",
      "16    False  False\n",
      "17    False  False\n",
      "18    False  False\n",
      "19    False  False\n",
      "20    False  False\n",
      "21    False  False\n",
      "22    False  False\n",
      "23    False  False\n",
      "24    False  False\n",
      "25    False  False\n",
      "26    False  False\n",
      "27    False  False\n",
      "28    False  False\n",
      "29    False  False\n",
      "...     ...    ...\n",
      "1342  False  False\n",
      "1343  False  False\n",
      "1344  False  False\n",
      "1345  False  False\n",
      "1346  False  False\n",
      "1347  False  False\n",
      "1348  False  False\n",
      "1349  False  False\n",
      "1350  False  False\n",
      "1351  False  False\n",
      "1352  False  False\n",
      "1353  False  False\n",
      "1354  False  False\n",
      "1355  False  False\n",
      "1356  False  False\n",
      "1357  False  False\n",
      "1358  False  False\n",
      "1359  False  False\n",
      "1360  False  False\n",
      "1361  False  False\n",
      "1362  False  False\n",
      "1363  False  False\n",
      "1364  False  False\n",
      "1365  False  False\n",
      "1366  False  False\n",
      "1367  False  False\n",
      "1368  False  False\n",
      "1369  False  False\n",
      "1370  False  False\n",
      "1371  False  False\n",
      "\n",
      "[1372 rows x 2 columns]\n"
     ]
    }
   ],
   "source": [
    "# Check for None values\n",
    "print(df.applymap(lambda x: x is None))"
   ]
  },
  {
   "cell_type": "code",
   "execution_count": 17,
   "metadata": {},
   "outputs": [
    {
     "name": "stdout",
     "output_type": "stream",
     "text": [
      "0    0\n",
      "1    0\n",
      "dtype: int64\n"
     ]
    }
   ],
   "source": [
    "# Count null values\n",
    "print(df.isnull().sum())"
   ]
  },
  {
   "cell_type": "code",
   "execution_count": 18,
   "metadata": {},
   "outputs": [
    {
     "data": {
      "text/plain": [
       "KMeans(algorithm='auto', copy_x=True, init='random', max_iter=300,\n",
       "    n_clusters=10, n_init=10, n_jobs=1, precompute_distances='auto',\n",
       "    random_state=1, tol=0.0001, verbose=0)"
      ]
     },
     "execution_count": 18,
     "metadata": {},
     "output_type": "execute_result"
    }
   ],
   "source": [
    "# fit the scaled data to the KMeans object\n",
    "kmeans.fit(df)"
   ]
  },
  {
   "cell_type": "code",
   "execution_count": 19,
   "metadata": {},
   "outputs": [],
   "source": [
    "# append the SSE value to sse list\n",
    "sse.append(kmeans.inertia_)\n"
   ]
  },
  {
   "cell_type": "code",
   "execution_count": 20,
   "metadata": {},
   "outputs": [],
   "source": [
    "#create list to hold SSE values for each k\n",
    "sse = []\n",
    "for k in range(1, 11):\n",
    "    kmeans = KMeans(n_clusters=k, **kmeans_kwargs)\n",
    "    kmeans.fit(data_scaled)\n",
    "    sse.append(kmeans.inertia_)"
   ]
  },
  {
   "cell_type": "code",
   "execution_count": 21,
   "metadata": {},
   "outputs": [
    {
     "data": {
      "image/png": "[encoded data removed]",
      "text/plain": [
       "<Figure size 432x288 with 1 Axes>"
      ]
     },
     "metadata": {},
     "output_type": "display_data"
    }
   ],
   "source": [
    "#visualize results\n",
    "plt.plot(range(1, 11), sse)\n",
    "plt.xticks(range(1, 11))\n",
    "plt.xlabel(\"Number of Clusters\")\n",
    "plt.ylabel(\"SSE\")\n",
    "plt.show()"
   ]
  },
  {
   "cell_type": "code",
   "execution_count": 22,
   "metadata": {},
   "outputs": [
    {
     "data": {
      "text/plain": [
       "KMeans(algorithm='auto', copy_x=True, init='random', max_iter=300,\n",
       "    n_clusters=2, n_init=10, n_jobs=1, precompute_distances='auto',\n",
       "    random_state=1, tol=0.0001, verbose=0)"
      ]
     },
     "execution_count": 22,
     "metadata": {},
     "output_type": "execute_result"
    }
   ],
   "source": [
    "# Tune the KMeans model using the optimal number of clusters\n",
    "kmeans = KMeans(n_clusters=2, **kmeans_kwargs)\n",
    "kmeans.fit(data_scaled)"
   ]
  },
  {
   "cell_type": "code",
   "execution_count": 23,
   "metadata": {},
   "outputs": [
    {
     "data": {
      "text/plain": [
       "array([1, 1, 1, ..., 0, 0, 0], dtype=int32)"
      ]
     },
     "execution_count": 23,
     "metadata": {},
     "output_type": "execute_result"
    }
   ],
   "source": [
    "#view cluster assignments for each observation\n",
    "kmeans.labels_"
   ]
  },
  {
   "cell_type": "code",
   "execution_count": 24,
   "metadata": {},
   "outputs": [],
   "source": [
    "df['cluster'] = kmeans.labels_"
   ]
  },
  {
   "cell_type": "code",
   "execution_count": 25,
   "metadata": {},
   "outputs": [
    {
     "name": "stdout",
     "output_type": "stream",
     "text": [
      "             0         1  cluster\n",
      "0     1.121806  1.149455        1\n",
      "1     1.447066  1.064453        1\n",
      "2     1.207810 -0.777352        1\n",
      "3     1.063742  1.295478        1\n",
      "4    -0.036772 -1.087038        0\n",
      "5     1.384604  1.320874        1\n",
      "6     1.111108  0.185881        1\n",
      "7     0.583612 -1.488408        0\n",
      "8     0.974571  0.653913        1\n",
      "9     0.387745  1.236571        1\n",
      "10    0.278340  1.168511        1\n",
      "11    1.251410 -0.788994        1\n",
      "12    0.515730  0.978394        1\n",
      "13   -0.707505  1.520502        1\n",
      "14    1.045232  1.159682        1\n",
      "15    1.493024 -0.905392        1\n",
      "16    0.787607  0.194693        1\n",
      "17    0.130137  0.157655        1\n",
      "18    0.356883 -1.159342        0\n",
      "19    1.692128  1.551899        1\n",
      "20    1.883702  1.017205        1\n",
      "21   -0.036786 -1.087038        0\n",
      "22    1.232513  1.404462        1\n",
      "23    0.176690  1.186851        1\n",
      "24    1.407618  1.357555        1\n",
      "25    0.095704 -1.264798        0\n",
      "26    0.249660 -0.965356        0\n",
      "27   -0.287105  1.102548        1\n",
      "28    2.156986  1.345913        1\n",
      "29    1.568365 -0.900091        1\n",
      "...        ...       ...      ...\n",
      "1342 -0.767715 -1.320176        0\n",
      "1343 -0.490183 -1.471841        0\n",
      "1344  0.320708 -0.287454        1\n",
      "1345  0.631364  0.370339        1\n",
      "1346  0.289776  0.502948        1\n",
      "1347 -2.047852  1.227060        0\n",
      "1348 -1.200797  0.071954        0\n",
      "1349 -0.710426 -0.695179        0\n",
      "1350 -0.229655 -0.703293        0\n",
      "1351  0.311277 -0.003520        1\n",
      "1352  0.371557  0.256770        1\n",
      "1353 -0.111839  0.221505        1\n",
      "1354 -1.346412  0.244430        0\n",
      "1355 -2.321453  1.156870        0\n",
      "1356 -1.587885  0.170711        0\n",
      "1357 -1.064013 -0.394322        0\n",
      "1358 -0.508612 -0.360110        0\n",
      "1359 -0.129360  0.096993        1\n",
      "1360 -0.239708  0.002462        0\n",
      "1361 -0.706238 -0.146372        0\n",
      "1362 -0.915125 -0.056086        0\n",
      "1363 -0.563191 -0.570327        0\n",
      "1364 -1.151707 -1.457728        0\n",
      "1365 -1.737794 -1.318404        0\n",
      "1366 -1.000707  0.310376        0\n",
      "1367 -0.009711 -0.097693        1\n",
      "1368 -0.641313 -1.158984        0\n",
      "1369 -1.472357 -2.621646        0\n",
      "1370 -1.406693 -1.756471        0\n",
      "1371 -1.047122 -0.439822        0\n",
      "\n",
      "[1372 rows x 3 columns]\n"
     ]
    }
   ],
   "source": [
    "print(df)"
   ]
  },
  {
   "cell_type": "code",
   "execution_count": 26,
   "metadata": {},
   "outputs": [
    {
     "data": {
      "text/plain": [
       "KMeans(algorithm='auto', copy_x=True, init='random', max_iter=300,\n",
       "    n_clusters=2, n_init=10, n_jobs=1, precompute_distances='auto',\n",
       "    random_state=42, tol=0.0001, verbose=0)"
      ]
     },
     "execution_count": 26,
     "metadata": {},
     "output_type": "execute_result"
    }
   ],
   "source": [
    "# Initialize the centroids\n",
    "kmeans_kwargs = {\"init\": \"random\", \"n_init\": 10, \"max_iter\": 300, \"random_state\": 42}\n",
    "kmeans = KMeans(n_clusters=2, **kmeans_kwargs)\n",
    "kmeans.fit(data_scaled)"
   ]
  },
  {
   "cell_type": "code",
   "execution_count": 27,
   "metadata": {},
   "outputs": [],
   "source": [
    "# Map each point to the nearest centroid\n",
    "labels = kmeans.predict(data_scaled)\n",
    "\n",
    "# Update centroids\n",
    "centroids = kmeans.cluster_centers_"
   ]
  },
  {
   "cell_type": "code",
   "execution_count": 28,
   "metadata": {
    "scrolled": true
   },
   "outputs": [
    {
     "data": {
      "image/png": "[encoded data removed]",
      "text/plain": [
       "<Figure size 432x288 with 1 Axes>"
      ]
     },
     "metadata": {},
     "output_type": "display_data"
    }
   ],
   "source": [
    "# Plot the clusters and centroids in a cross\n",
    "colors = [\"r\", \"g\"]\n",
    "for i in range(2):\n",
    "    plt.scatter(data_scaled[labels == i][:, 0], data_scaled[labels == i][:, 1], c=colors[i])\n",
    "plt.scatter(centroids[:, 0], centroids[:, 1], marker=\"x\", s=200, linewidths=3, color=\"k\")\n",
    "plt.show()"
   ]
  },
  {
   "cell_type": "code",
   "execution_count": 29,
   "metadata": {},
   "outputs": [],
   "source": [
    "# Groups the data by the value of the column that contains the groups (0 or 1)\n",
    "grouped_data_1 = df[df[\"cluster\"] == 0].groupby(\"cluster\").apply(list)"
   ]
  },
  {
   "cell_type": "code",
   "execution_count": 30,
   "metadata": {},
   "outputs": [],
   "source": [
    "grouped_data_2 = df[df[\"cluster\"] == 1].groupby(\"cluster\").apply(list)"
   ]
  },
  {
   "cell_type": "code",
   "execution_count": 31,
   "metadata": {},
   "outputs": [],
   "source": [
    "# Calculate the variance and asymmetry of each group\n",
    "var_data_1 = df[df[\"cluster\"] == 0].groupby(\"cluster\")[[\"0\", \"1\"]].var()"
   ]
  },
  {
   "cell_type": "code",
   "execution_count": 32,
   "metadata": {},
   "outputs": [],
   "source": [
    "var_data_2 = df[df[\"cluster\"] == 1].groupby(\"cluster\")[[\"0\", \"1\"]].var()"
   ]
  },
  {
   "cell_type": "code",
   "execution_count": 33,
   "metadata": {},
   "outputs": [],
   "source": [
    "skew_data_1 = df[df[\"cluster\"] == 0].groupby(\"cluster\")[[\"0\", \"1\"]].skew()"
   ]
  },
  {
   "cell_type": "code",
   "execution_count": 34,
   "metadata": {},
   "outputs": [],
   "source": [
    "skew_data_2 = df[df[\"cluster\"] == 1].groupby(\"cluster\")[[\"0\", \"1\"]].skew()"
   ]
  },
  {
   "cell_type": "code",
   "execution_count": 35,
   "metadata": {},
   "outputs": [
    {
     "name": "stdout",
     "output_type": "stream",
     "text": [
      "Varianza 1:\n",
      "               0         1\n",
      "cluster                   \n",
      "0        0.41186  0.813208\n",
      "Varianza 2:\n",
      "                0         1\n",
      "cluster                    \n",
      "1        0.467383  0.602578\n",
      "Asimetría 1:\n",
      "                0         1\n",
      "cluster                    \n",
      "0       -0.260978 -0.226131\n",
      "Asimetría 2:\n",
      "                0         1\n",
      "cluster                    \n",
      "1       -0.401599 -0.396527\n"
     ]
    }
   ],
   "source": [
    "# Show the results, variance and asimmetry\n",
    "print(\"Varianza 1:\")\n",
    "print(var_data_1)\n",
    "print(\"Varianza 2:\")\n",
    "print(var_data_2)\n",
    "\n",
    "print(\"Asimetría 1:\")\n",
    "print(skew_data_1)\n",
    "print(\"Asimetría 2:\")\n",
    "print(skew_data_2)"
   ]
  },
  {
   "cell_type": "code",
   "execution_count": 36,
   "metadata": {},
   "outputs": [],
   "source": [
    "#Take average, importing statistics library:\n",
    "import statistics\n",
    "import scipy.stats as stats"
   ]
  },
  {
   "cell_type": "code",
   "execution_count": 37,
   "metadata": {},
   "outputs": [],
   "source": [
    "# F\n",
    "# Calculate the variance of each group\n",
    "varianza_1 = df[df[\"cluster\"] == 0].groupby(\"cluster\")[[\"0\", \"1\"]].var()\n",
    "varianza_2 = df[df[\"cluster\"] == 1].groupby(\"cluster\")[[\"0\", \"1\"]].var()"
   ]
  },
  {
   "cell_type": "code",
   "execution_count": 38,
   "metadata": {},
   "outputs": [],
   "source": [
    "# Create a DataFrame with the three variances of each column: 0 and 1\n",
    "variances = pd.DataFrame({'varianza_1':[0.410466, 0.436135], 'varianza_2': [0.231104, 0.593402]})\n",
    "\n",
    "# Calculate the mean of the three variances\n",
    "mean_variances = variances.mean(axis=1)"
   ]
  },
  {
   "cell_type": "code",
   "execution_count": 39,
   "metadata": {},
   "outputs": [
    {
     "name": "stdout",
     "output_type": "stream",
     "text": [
      "0    0.320785\n",
      "1    0.514768\n",
      "dtype: float64\n"
     ]
    }
   ],
   "source": [
    "print(mean_variances)"
   ]
  },
  {
   "cell_type": "code",
   "execution_count": 40,
   "metadata": {},
   "outputs": [],
   "source": [
    "# Calculate the combined variance\n",
    "varianza_combinada = ((len(df[df[\"cluster\"] == 0]) - 1) * variances['varianza_1']) + ((len(df[df[\"cluster\"] == 1]) - 1) * variances['varianza_2']) / (len(df) - len(variances))"
   ]
  },
  {
   "cell_type": "code",
   "execution_count": 41,
   "metadata": {},
   "outputs": [
    {
     "name": "stdout",
     "output_type": "stream",
     "text": [
      "0    244.768301\n",
      "1    260.271710\n",
      "dtype: float64\n"
     ]
    }
   ],
   "source": [
    "print(varianza_combinada)"
   ]
  },
  {
   "cell_type": "code",
   "execution_count": 42,
   "metadata": {},
   "outputs": [],
   "source": [
    "#Calculate the mean of each cluster (0, 1)\n",
    "media_c1 = df[df[\"cluster\"] == 0].groupby(\"cluster\")[[\"0\", \"1\"]].mean()\n",
    "media_c2 = df[df[\"cluster\"] == 1].groupby(\"cluster\")[[\"0\", \"1\"]].mean()"
   ]
  },
  {
   "cell_type": "code",
   "execution_count": 43,
   "metadata": {},
   "outputs": [
    {
     "name": "stdout",
     "output_type": "stream",
     "text": [
      "Media cluster 0:                 0         1\n",
      "cluster                    \n",
      "0       -0.850656 -0.631092\n",
      "Media cluster 1:                0         1\n",
      "cluster                   \n",
      "1        0.65528  0.486145\n"
     ]
    }
   ],
   "source": [
    "print(\"Media cluster 0:\", media_c1)\n",
    "print(\"Media cluster 1:\", media_c2)"
   ]
  },
  {
   "cell_type": "code",
   "execution_count": 44,
   "metadata": {},
   "outputs": [
    {
     "name": "stdout",
     "output_type": "stream",
     "text": [
      "-8.286212661925366e-17\n"
     ]
    }
   ],
   "source": [
    "# Calculates the general mean column 0 (including the two clusters)\n",
    "mean0 = df[[\"0\"]].mean().mean()\n",
    "print(mean0)"
   ]
  },
  {
   "cell_type": "code",
   "execution_count": 45,
   "metadata": {},
   "outputs": [
    {
     "name": "stdout",
     "output_type": "stream",
     "text": [
      "-4.143106330962683e-17\n"
     ]
    }
   ],
   "source": [
    "# Calculate the general mean column 1 (including the two clusters)\n",
    "mean1 = df[[\"1\"]].mean().mean()\n",
    "print(mean1)"
   ]
  },
  {
   "cell_type": "code",
   "execution_count": 46,
   "metadata": {},
   "outputs": [
    {
     "name": "stdout",
     "output_type": "stream",
     "text": [
      "5.421643050283197e-18\n"
     ]
    }
   ],
   "source": [
    "# Calculate the overall mean (both columns together, which would be wrong??)\n",
    "mean = df[[\"0\", \"1\"]].mean().mean()\n",
    "print(mean)"
   ]
  },
  {
   "cell_type": "code",
   "execution_count": 47,
   "metadata": {},
   "outputs": [
    {
     "name": "stdout",
     "output_type": "stream",
     "text": [
      "La suma de cuadrados entre los grupos es: 8.022319900234223\n"
     ]
    }
   ],
   "source": [
    "# Calculate the general average\n",
    "mean = df[[\"0\", \"1\"]].mean().mean()\n",
    "\n",
    "# Calculate the sum of squares between the groups\n",
    "SS_between = ((df[[\"0\", \"1\"]] - df.groupby(\"cluster\")[[\"0\", \"1\"]].mean()) ** 2).sum().sum()\n",
    "\n",
    "# Calculate the number of groups\n",
    "k = len(df[\"cluster\"].unique())\n",
    "\n",
    "# Calculate the degrees of freedom between the groups\n",
    "df_between = k - 1\n",
    "\n",
    "# Calculate the mean squares between the groups\n",
    "MS_between = SS_between / df_between\n",
    "\n",
    "print(\"The sum of squares between the groups is:\", SS_between)"
   ]
  },
  {
   "cell_type": "code",
   "execution_count": 48,
   "metadata": {},
   "outputs": [
    {
     "name": "stdout",
     "output_type": "stream",
     "text": [
      "La suma de cuadrados dentro de los grupos es: 1558.2906905807504\n"
     ]
    }
   ],
   "source": [
    "# Calculate the average of each group\n",
    "group_means = df.groupby(\"cluster\")[[\"0\", \"1\"]].mean()\n",
    "\n",
    "# Calculate the sum of squares within the groups\n",
    "SS_within = ((df[[\"0\", \"1\"]] - df.groupby(\"cluster\")[[\"0\", \"1\"]].transform(\"mean\")) ** 2).sum().sum()\n",
    "\n",
    "# Calculate the number of degrees of freedom within the groups\n",
    "df_within = len(df) - len(group_means)\n",
    "\n",
    "# Calculate the mean squares within the groups\n",
    "MS_within = SS_within / df_within\n",
    "\n",
    "print(\"The sum of squares within the groups is:\", SS_within)\n"
   ]
  },
  {
   "cell_type": "code",
   "execution_count": 49,
   "metadata": {},
   "outputs": [
    {
     "name": "stdout",
     "output_type": "stream",
     "text": [
      "inf\n"
     ]
    }
   ],
   "source": [
    "# Calculate the number of degrees of freedom between groups and within groups\n",
    "df_between = len(varianza_1) + len(varianza_2) - 2\n",
    "df_within = len(df) - len(varianza_1) - len(varianza_2)\n",
    "\n",
    "# Calculate the F test\n",
    "F = (SS_between / df_between) / (SS_within / df_within)\n",
    "\n",
    "print(F) #inf is too large a number, \"infinity\" (The variance within the group was close to zero,\n",
    "# which makes F large, infinite)"
   ]
  },
  {
   "cell_type": "code",
   "execution_count": 50,
   "metadata": {},
   "outputs": [],
   "source": [
    "# Calculate the F statistic and p value\n",
    "estadistico_f = (SS_between / (len(variances) - 1)) / (SS_within / (len(df) - len(variances)))\n",
    "valor_p = stats.f.sf(estadistico_f, len(variances) - 1, len(df) - len(variances))"
   ]
  },
  {
   "cell_type": "code",
   "execution_count": 51,
   "metadata": {},
   "outputs": [
    {
     "name": "stdout",
     "output_type": "stream",
     "text": [
      "Varianza de cada grupo: [[0.410466 0.231104]\n",
      " [0.436135 0.593402]]\n",
      "Media de las varianzas: 0    0.320785\n",
      "1    0.514768\n",
      "dtype: float64\n",
      "Varianza combinada: 0    244.768301\n",
      "1    260.271710\n",
      "dtype: float64\n",
      "Suma de cuadrados entre grupos: 8.022319900234223\n",
      "Suma de cuadrados dentro de los grupos: 1558.2906905807504\n",
      "Estadístico F: 7.052970495013912, valor p: 0.00800519470575833\n"
     ]
    }
   ],
   "source": [
    "print(f'Variance of each group: {variances.values}')\n",
    "print(f'Mean of variances: {mean_variances}')\n",
    "print(f'Combined variance: {varianza_combinada}')\n",
    "print(f'Sum of squares between groups: {SS_between}')\n",
    "print(f'Sum of squares within groups: {SS_within}')\n",
    "print(f'F-statistic: {estadistico_f}, p-value: {valor_p}')"
   ]
  },
  {
   "cell_type": "code",
   "execution_count": 52,
   "metadata": {},
   "outputs": [],
   "source": [
    "# t\n",
    "# Calculate the mean and standard deviation of each group\n",
    "media = df.groupby(\"cluster\")[[\"0\", \"1\"]].mean()\n",
    "desviacion_estandar = df.groupby(\"cluster\")[[\"0\", \"1\"]].std()"
   ]
  },
  {
   "cell_type": "code",
   "execution_count": 53,
   "metadata": {},
   "outputs": [
    {
     "name": "stdout",
     "output_type": "stream",
     "text": [
      "Media de cada grupo:\n",
      "                0         1\n",
      "cluster                    \n",
      "0       -0.850656 -0.631092\n",
      "1        0.655280  0.486145\n",
      "\n",
      "Desviación estándar de cada grupo:\n",
      "                0         1\n",
      "cluster                    \n",
      "0        0.641763  0.901781\n",
      "1        0.683654  0.776259\n",
      "\n"
     ]
    }
   ],
   "source": [
    "print(f'Mean of each group:\\n{media}\\n')\n",
    "print(f'Standard deviation of each group:\\n{desviacion_estandar}\\n')"
   ]
  },
  {
   "cell_type": "code",
   "execution_count": 54,
   "metadata": {},
   "outputs": [],
   "source": [
    "# Calculate the t-statistic and p-value\n",
    "t_statistic, p_value = stats.ttest_ind(df[\"0\"], df[\"1\"])"
   ]
  },
  {
   "cell_type": "code",
   "execution_count": 55,
   "metadata": {},
   "outputs": [
    {
     "name": "stdout",
     "output_type": "stream",
     "text": [
      "Estadístico t: -1.0847503750980699e-15\n",
      "Valor p: 0.9999999999999991\n"
     ]
    }
   ],
   "source": [
    "print(f'Statistic t: {t_statistic}')\n",
    "print(f'P value: {p_value}')"
   ]
  },
  {
   "cell_type": "code",
   "execution_count": 56,
   "metadata": {},
   "outputs": [],
   "source": [
    "# Last conclusions:\n",
    "# Two clusters (0, 1) via Kmeans, column V1, variance of transformed images and column V2,\n",
    "# asymmetry of the transformed images, with 1372 data each, with a mean (± is standard deviation) cluster 0,\n",
    "# column V1 mean -0.850 ± 0.641, column V2 mean 0.631 ± 0.901; cluster 1, column V1 mean 0.655 ± 0.683,\n",
    "# column V2 mean 0.486 ± 0.776.\n",
    "# With Statistical F=7.052 and p=0.008, t=-1.084*10-15 and p=0.999, what does all this mean? The results are the following:\n",
    "# The data from 1372 transformed images have been used to create three clusters (0, 1) using the Kmeans algorithm.\n",
    "# Column V1 represents the variance of the transformed images and column V2 represents the skewness of the images\n",
    "# transformed.\n",
    "# In addition, an F statistic of 7.052 has been obtained with a p value of 0.008. This result indicates that there is a relationship\n",
    "# significant between the predictor variables (column V1 and column V2) and the response variable (the clusters,\n",
    "# well classified). In other words, the model is significant and the predictor variables have a significant effect\n",
    "# about clusters.\n",
    "# On the other hand, the t value it provides is very small (-1.084 x 10^-15) and the p value is very large (0.999).\n",
    "# This suggests that there is no significant difference between the groups in terms of the predictor variables."
   ]
  }
 ],
 "metadata": {
  "kernelspec": {
   "display_name": "Python 3",
   "language": "python",
   "name": "python3"
  },
  "language_info": {
   "codemirror_mode": {
    "name": "ipython",
    "version": 3
   },
   "file_extension": ".py",
   "mimetype": "text/x-python",
   "name": "python",
   "nbconvert_exporter": "python",
   "pygments_lexer": "ipython3",
   "version": "3.6.3"
  }
 },
 "nbformat": 4,
 "nbformat_minor": 2
}
